{
 "cells": [
  {
   "cell_type": "markdown",
   "id": "b0c69f9f",
   "metadata": {},
   "source": [
    "## Análise de vendas\n",
    "\n",
    "Esta análise em como objetivo treinar tecnicas de análise exploratória em uma base de dados de vendas"
   ]
  },
  {
   "cell_type": "code",
   "execution_count": 3,
   "id": "75ea0865",
   "metadata": {},
   "outputs": [],
   "source": [
    "import pandas as pd\n",
    "\n",
    "df_vendas = pd.read_csv('dataset_vendas.csv', sep=';')\n"
   ]
  },
  {
   "cell_type": "code",
   "execution_count": 4,
   "id": "f7896e86",
   "metadata": {},
   "outputs": [
    {
     "data": {
      "application/vnd.microsoft.datawrangler.viewer.v0+json": {
       "columns": [
        {
         "name": "index",
         "rawType": "int64",
         "type": "integer"
        },
        {
         "name": "ID_Pedido",
         "rawType": "int64",
         "type": "integer"
        },
        {
         "name": "Data_Compra",
         "rawType": "object",
         "type": "string"
        },
        {
         "name": "Cliente_ID",
         "rawType": "int64",
         "type": "integer"
        },
        {
         "name": "Valor_Total",
         "rawType": "float64",
         "type": "float"
        },
        {
         "name": "Categoria_Produto",
         "rawType": "object",
         "type": "string"
        },
        {
         "name": "Quantidade",
         "rawType": "int64",
         "type": "integer"
        }
       ],
       "conversionMethod": "pd.DataFrame",
       "ref": "5a187197-6c01-4fba-bb68-414df84a3f15",
       "rows": [
        [
         "0",
         "1001",
         "2024-01-01",
         "551",
         "607.5",
         "Roupas",
         "1"
        ],
        [
         "1",
         "1002",
         "2024-01-02",
         "592",
         "758.17",
         "Beleza",
         "2"
        ],
        [
         "2",
         "1003",
         "2024-01-05",
         "514",
         "460.08",
         "Roupas",
         "6"
        ],
        [
         "3",
         "1004",
         "2024-01-04",
         "571",
         "171.2",
         "Eletrônicos",
         "5"
        ],
        [
         "4",
         "1005",
         "2024-01-05",
         "560",
         "319.59",
         "Beleza",
         "7"
        ]
       ],
       "shape": {
        "columns": 6,
        "rows": 5
       }
      },
      "text/html": [
       "<div>\n",
       "<style scoped>\n",
       "    .dataframe tbody tr th:only-of-type {\n",
       "        vertical-align: middle;\n",
       "    }\n",
       "\n",
       "    .dataframe tbody tr th {\n",
       "        vertical-align: top;\n",
       "    }\n",
       "\n",
       "    .dataframe thead th {\n",
       "        text-align: right;\n",
       "    }\n",
       "</style>\n",
       "<table border=\"1\" class=\"dataframe\">\n",
       "  <thead>\n",
       "    <tr style=\"text-align: right;\">\n",
       "      <th></th>\n",
       "      <th>ID_Pedido</th>\n",
       "      <th>Data_Compra</th>\n",
       "      <th>Cliente_ID</th>\n",
       "      <th>Valor_Total</th>\n",
       "      <th>Categoria_Produto</th>\n",
       "      <th>Quantidade</th>\n",
       "    </tr>\n",
       "  </thead>\n",
       "  <tbody>\n",
       "    <tr>\n",
       "      <th>0</th>\n",
       "      <td>1001</td>\n",
       "      <td>2024-01-01</td>\n",
       "      <td>551</td>\n",
       "      <td>607.50</td>\n",
       "      <td>Roupas</td>\n",
       "      <td>1</td>\n",
       "    </tr>\n",
       "    <tr>\n",
       "      <th>1</th>\n",
       "      <td>1002</td>\n",
       "      <td>2024-01-02</td>\n",
       "      <td>592</td>\n",
       "      <td>758.17</td>\n",
       "      <td>Beleza</td>\n",
       "      <td>2</td>\n",
       "    </tr>\n",
       "    <tr>\n",
       "      <th>2</th>\n",
       "      <td>1003</td>\n",
       "      <td>2024-01-05</td>\n",
       "      <td>514</td>\n",
       "      <td>460.08</td>\n",
       "      <td>Roupas</td>\n",
       "      <td>6</td>\n",
       "    </tr>\n",
       "    <tr>\n",
       "      <th>3</th>\n",
       "      <td>1004</td>\n",
       "      <td>2024-01-04</td>\n",
       "      <td>571</td>\n",
       "      <td>171.20</td>\n",
       "      <td>Eletrônicos</td>\n",
       "      <td>5</td>\n",
       "    </tr>\n",
       "    <tr>\n",
       "      <th>4</th>\n",
       "      <td>1005</td>\n",
       "      <td>2024-01-05</td>\n",
       "      <td>560</td>\n",
       "      <td>319.59</td>\n",
       "      <td>Beleza</td>\n",
       "      <td>7</td>\n",
       "    </tr>\n",
       "  </tbody>\n",
       "</table>\n",
       "</div>"
      ],
      "text/plain": [
       "   ID_Pedido Data_Compra  Cliente_ID  Valor_Total Categoria_Produto  \\\n",
       "0       1001  2024-01-01         551       607.50            Roupas   \n",
       "1       1002  2024-01-02         592       758.17            Beleza   \n",
       "2       1003  2024-01-05         514       460.08            Roupas   \n",
       "3       1004  2024-01-04         571       171.20       Eletrônicos   \n",
       "4       1005  2024-01-05         560       319.59            Beleza   \n",
       "\n",
       "   Quantidade  \n",
       "0           1  \n",
       "1           2  \n",
       "2           6  \n",
       "3           5  \n",
       "4           7  "
      ]
     },
     "execution_count": 4,
     "metadata": {},
     "output_type": "execute_result"
    }
   ],
   "source": [
    "# realizar leitura das 5 primeiras linhas do dataset\n",
    "\n",
    "df_vendas.head()\n"
   ]
  },
  {
   "cell_type": "code",
   "execution_count": 5,
   "id": "ea4d5cc5",
   "metadata": {},
   "outputs": [
    {
     "data": {
      "application/vnd.microsoft.datawrangler.viewer.v0+json": {
       "columns": [
        {
         "name": "index",
         "rawType": "int64",
         "type": "integer"
        },
        {
         "name": "ID_Pedido",
         "rawType": "int64",
         "type": "integer"
        },
        {
         "name": "Data_Compra",
         "rawType": "object",
         "type": "string"
        },
        {
         "name": "Cliente_ID",
         "rawType": "int64",
         "type": "integer"
        },
        {
         "name": "Valor_Total",
         "rawType": "float64",
         "type": "float"
        },
        {
         "name": "Categoria_Produto",
         "rawType": "object",
         "type": "string"
        },
        {
         "name": "Quantidade",
         "rawType": "int64",
         "type": "integer"
        }
       ],
       "conversionMethod": "pd.DataFrame",
       "ref": "205198b6-d29f-4844-bee6-e96571718cfc",
       "rows": [
        [
         "995",
         "1996",
         "2026-09-22",
         "509",
         "834.76",
         "Beleza",
         "4"
        ],
        [
         "996",
         "1997",
         "2026-09-23",
         "566",
         "792.93",
         "Esportes",
         "3"
        ],
        [
         "997",
         "1998",
         "2026-09-24",
         "517",
         "723.31",
         "Beleza",
         "3"
        ],
        [
         "998",
         "1999",
         "2026-09-25",
         "599",
         "84.35",
         "Beleza",
         "3"
        ],
        [
         "999",
         "2000",
         "2026-09-26",
         "585",
         "337.97",
         "Eletrônicos",
         "6"
        ]
       ],
       "shape": {
        "columns": 6,
        "rows": 5
       }
      },
      "text/html": [
       "<div>\n",
       "<style scoped>\n",
       "    .dataframe tbody tr th:only-of-type {\n",
       "        vertical-align: middle;\n",
       "    }\n",
       "\n",
       "    .dataframe tbody tr th {\n",
       "        vertical-align: top;\n",
       "    }\n",
       "\n",
       "    .dataframe thead th {\n",
       "        text-align: right;\n",
       "    }\n",
       "</style>\n",
       "<table border=\"1\" class=\"dataframe\">\n",
       "  <thead>\n",
       "    <tr style=\"text-align: right;\">\n",
       "      <th></th>\n",
       "      <th>ID_Pedido</th>\n",
       "      <th>Data_Compra</th>\n",
       "      <th>Cliente_ID</th>\n",
       "      <th>Valor_Total</th>\n",
       "      <th>Categoria_Produto</th>\n",
       "      <th>Quantidade</th>\n",
       "    </tr>\n",
       "  </thead>\n",
       "  <tbody>\n",
       "    <tr>\n",
       "      <th>995</th>\n",
       "      <td>1996</td>\n",
       "      <td>2026-09-22</td>\n",
       "      <td>509</td>\n",
       "      <td>834.76</td>\n",
       "      <td>Beleza</td>\n",
       "      <td>4</td>\n",
       "    </tr>\n",
       "    <tr>\n",
       "      <th>996</th>\n",
       "      <td>1997</td>\n",
       "      <td>2026-09-23</td>\n",
       "      <td>566</td>\n",
       "      <td>792.93</td>\n",
       "      <td>Esportes</td>\n",
       "      <td>3</td>\n",
       "    </tr>\n",
       "    <tr>\n",
       "      <th>997</th>\n",
       "      <td>1998</td>\n",
       "      <td>2026-09-24</td>\n",
       "      <td>517</td>\n",
       "      <td>723.31</td>\n",
       "      <td>Beleza</td>\n",
       "      <td>3</td>\n",
       "    </tr>\n",
       "    <tr>\n",
       "      <th>998</th>\n",
       "      <td>1999</td>\n",
       "      <td>2026-09-25</td>\n",
       "      <td>599</td>\n",
       "      <td>84.35</td>\n",
       "      <td>Beleza</td>\n",
       "      <td>3</td>\n",
       "    </tr>\n",
       "    <tr>\n",
       "      <th>999</th>\n",
       "      <td>2000</td>\n",
       "      <td>2026-09-26</td>\n",
       "      <td>585</td>\n",
       "      <td>337.97</td>\n",
       "      <td>Eletrônicos</td>\n",
       "      <td>6</td>\n",
       "    </tr>\n",
       "  </tbody>\n",
       "</table>\n",
       "</div>"
      ],
      "text/plain": [
       "     ID_Pedido Data_Compra  Cliente_ID  Valor_Total Categoria_Produto  \\\n",
       "995       1996  2026-09-22         509       834.76            Beleza   \n",
       "996       1997  2026-09-23         566       792.93          Esportes   \n",
       "997       1998  2026-09-24         517       723.31            Beleza   \n",
       "998       1999  2026-09-25         599        84.35            Beleza   \n",
       "999       2000  2026-09-26         585       337.97       Eletrônicos   \n",
       "\n",
       "     Quantidade  \n",
       "995           4  \n",
       "996           3  \n",
       "997           3  \n",
       "998           3  \n",
       "999           6  "
      ]
     },
     "execution_count": 5,
     "metadata": {},
     "output_type": "execute_result"
    }
   ],
   "source": [
    "# realizar leitura das 5 ultimas linhas do dataset\n",
    "\n",
    "df_vendas.tail()"
   ]
  },
  {
   "cell_type": "code",
   "execution_count": 6,
   "id": "249a931c",
   "metadata": {},
   "outputs": [
    {
     "data": {
      "text/plain": [
       "(1000, 6)"
      ]
     },
     "execution_count": 6,
     "metadata": {},
     "output_type": "execute_result"
    }
   ],
   "source": [
    "# verifica quantas séries e linhas\n",
    "\n",
    "df_vendas.shape"
   ]
  },
  {
   "cell_type": "code",
   "execution_count": 7,
   "id": "b0a9c114",
   "metadata": {},
   "outputs": [
    {
     "name": "stdout",
     "output_type": "stream",
     "text": [
      "<class 'pandas.core.frame.DataFrame'>\n",
      "RangeIndex: 1000 entries, 0 to 999\n",
      "Data columns (total 6 columns):\n",
      " #   Column             Non-Null Count  Dtype  \n",
      "---  ------             --------------  -----  \n",
      " 0   ID_Pedido          1000 non-null   int64  \n",
      " 1   Data_Compra        1000 non-null   object \n",
      " 2   Cliente_ID         1000 non-null   int64  \n",
      " 3   Valor_Total        1000 non-null   float64\n",
      " 4   Categoria_Produto  1000 non-null   object \n",
      " 5   Quantidade         1000 non-null   int64  \n",
      "dtypes: float64(1), int64(3), object(2)\n",
      "memory usage: 47.0+ KB\n"
     ]
    }
   ],
   "source": [
    "# ver informações do dataset\n",
    "\n",
    "df_vendas.info()"
   ]
  },
  {
   "cell_type": "code",
   "execution_count": 8,
   "id": "f9fcb2b8",
   "metadata": {},
   "outputs": [
    {
     "data": {
      "application/vnd.microsoft.datawrangler.viewer.v0+json": {
       "columns": [
        {
         "name": "index",
         "rawType": "object",
         "type": "string"
        },
        {
         "name": "ID_Pedido",
         "rawType": "float64",
         "type": "float"
        },
        {
         "name": "Cliente_ID",
         "rawType": "float64",
         "type": "float"
        },
        {
         "name": "Valor_Total",
         "rawType": "float64",
         "type": "float"
        },
        {
         "name": "Quantidade",
         "rawType": "float64",
         "type": "float"
        }
       ],
       "conversionMethod": "pd.DataFrame",
       "ref": "a3fb0e69-4ea7-44b0-859b-53d28a9f9f5d",
       "rows": [
        [
         "count",
         "1000.0",
         "1000.0",
         "1000.0",
         "1000.0"
        ],
        [
         "mean",
         "1500.5",
         "549.128",
         "525.3079399999999",
         "4.945"
        ],
        [
         "std",
         "288.8194360957494",
         "29.573505172843618",
         "275.969011696192",
         "2.614346918411902"
        ],
        [
         "min",
         "1001.0",
         "500.0",
         "54.4",
         "1.0"
        ],
        [
         "25%",
         "1250.75",
         "523.0",
         "275.28499999999997",
         "3.0"
        ],
        [
         "50%",
         "1500.5",
         "550.0",
         "534.64",
         "5.0"
        ],
        [
         "75%",
         "1750.25",
         "574.0",
         "756.4350000000001",
         "7.0"
        ],
        [
         "max",
         "2000.0",
         "599.0",
         "999.44",
         "9.0"
        ]
       ],
       "shape": {
        "columns": 4,
        "rows": 8
       }
      },
      "text/html": [
       "<div>\n",
       "<style scoped>\n",
       "    .dataframe tbody tr th:only-of-type {\n",
       "        vertical-align: middle;\n",
       "    }\n",
       "\n",
       "    .dataframe tbody tr th {\n",
       "        vertical-align: top;\n",
       "    }\n",
       "\n",
       "    .dataframe thead th {\n",
       "        text-align: right;\n",
       "    }\n",
       "</style>\n",
       "<table border=\"1\" class=\"dataframe\">\n",
       "  <thead>\n",
       "    <tr style=\"text-align: right;\">\n",
       "      <th></th>\n",
       "      <th>ID_Pedido</th>\n",
       "      <th>Cliente_ID</th>\n",
       "      <th>Valor_Total</th>\n",
       "      <th>Quantidade</th>\n",
       "    </tr>\n",
       "  </thead>\n",
       "  <tbody>\n",
       "    <tr>\n",
       "      <th>count</th>\n",
       "      <td>1000.000000</td>\n",
       "      <td>1000.000000</td>\n",
       "      <td>1000.000000</td>\n",
       "      <td>1000.000000</td>\n",
       "    </tr>\n",
       "    <tr>\n",
       "      <th>mean</th>\n",
       "      <td>1500.500000</td>\n",
       "      <td>549.128000</td>\n",
       "      <td>525.307940</td>\n",
       "      <td>4.945000</td>\n",
       "    </tr>\n",
       "    <tr>\n",
       "      <th>std</th>\n",
       "      <td>288.819436</td>\n",
       "      <td>29.573505</td>\n",
       "      <td>275.969012</td>\n",
       "      <td>2.614347</td>\n",
       "    </tr>\n",
       "    <tr>\n",
       "      <th>min</th>\n",
       "      <td>1001.000000</td>\n",
       "      <td>500.000000</td>\n",
       "      <td>54.400000</td>\n",
       "      <td>1.000000</td>\n",
       "    </tr>\n",
       "    <tr>\n",
       "      <th>25%</th>\n",
       "      <td>1250.750000</td>\n",
       "      <td>523.000000</td>\n",
       "      <td>275.285000</td>\n",
       "      <td>3.000000</td>\n",
       "    </tr>\n",
       "    <tr>\n",
       "      <th>50%</th>\n",
       "      <td>1500.500000</td>\n",
       "      <td>550.000000</td>\n",
       "      <td>534.640000</td>\n",
       "      <td>5.000000</td>\n",
       "    </tr>\n",
       "    <tr>\n",
       "      <th>75%</th>\n",
       "      <td>1750.250000</td>\n",
       "      <td>574.000000</td>\n",
       "      <td>756.435000</td>\n",
       "      <td>7.000000</td>\n",
       "    </tr>\n",
       "    <tr>\n",
       "      <th>max</th>\n",
       "      <td>2000.000000</td>\n",
       "      <td>599.000000</td>\n",
       "      <td>999.440000</td>\n",
       "      <td>9.000000</td>\n",
       "    </tr>\n",
       "  </tbody>\n",
       "</table>\n",
       "</div>"
      ],
      "text/plain": [
       "         ID_Pedido   Cliente_ID  Valor_Total   Quantidade\n",
       "count  1000.000000  1000.000000  1000.000000  1000.000000\n",
       "mean   1500.500000   549.128000   525.307940     4.945000\n",
       "std     288.819436    29.573505   275.969012     2.614347\n",
       "min    1001.000000   500.000000    54.400000     1.000000\n",
       "25%    1250.750000   523.000000   275.285000     3.000000\n",
       "50%    1500.500000   550.000000   534.640000     5.000000\n",
       "75%    1750.250000   574.000000   756.435000     7.000000\n",
       "max    2000.000000   599.000000   999.440000     9.000000"
      ]
     },
     "execution_count": 8,
     "metadata": {},
     "output_type": "execute_result"
    }
   ],
   "source": [
    "df_vendas.describe() "
   ]
  },
  {
   "cell_type": "code",
   "execution_count": 9,
   "id": "229c0462",
   "metadata": {},
   "outputs": [
    {
     "data": {
      "application/vnd.microsoft.datawrangler.viewer.v0+json": {
       "columns": [
        {
         "name": "index",
         "rawType": "object",
         "type": "string"
        },
        {
         "name": "Data_Compra",
         "rawType": "object",
         "type": "unknown"
        },
        {
         "name": "Categoria_Produto",
         "rawType": "object",
         "type": "unknown"
        }
       ],
       "conversionMethod": "pd.DataFrame",
       "ref": "9053ef0a-e4cb-48db-b66f-6c2974686bcb",
       "rows": [
        [
         "count",
         "1000",
         "1000"
        ],
        [
         "unique",
         "612",
         "5"
        ],
        [
         "top",
         "2025-02-09",
         "Esportes"
        ],
        [
         "freq",
         "6",
         "220"
        ]
       ],
       "shape": {
        "columns": 2,
        "rows": 4
       }
      },
      "text/html": [
       "<div>\n",
       "<style scoped>\n",
       "    .dataframe tbody tr th:only-of-type {\n",
       "        vertical-align: middle;\n",
       "    }\n",
       "\n",
       "    .dataframe tbody tr th {\n",
       "        vertical-align: top;\n",
       "    }\n",
       "\n",
       "    .dataframe thead th {\n",
       "        text-align: right;\n",
       "    }\n",
       "</style>\n",
       "<table border=\"1\" class=\"dataframe\">\n",
       "  <thead>\n",
       "    <tr style=\"text-align: right;\">\n",
       "      <th></th>\n",
       "      <th>Data_Compra</th>\n",
       "      <th>Categoria_Produto</th>\n",
       "    </tr>\n",
       "  </thead>\n",
       "  <tbody>\n",
       "    <tr>\n",
       "      <th>count</th>\n",
       "      <td>1000</td>\n",
       "      <td>1000</td>\n",
       "    </tr>\n",
       "    <tr>\n",
       "      <th>unique</th>\n",
       "      <td>612</td>\n",
       "      <td>5</td>\n",
       "    </tr>\n",
       "    <tr>\n",
       "      <th>top</th>\n",
       "      <td>2025-02-09</td>\n",
       "      <td>Esportes</td>\n",
       "    </tr>\n",
       "    <tr>\n",
       "      <th>freq</th>\n",
       "      <td>6</td>\n",
       "      <td>220</td>\n",
       "    </tr>\n",
       "  </tbody>\n",
       "</table>\n",
       "</div>"
      ],
      "text/plain": [
       "       Data_Compra Categoria_Produto\n",
       "count         1000              1000\n",
       "unique         612                 5\n",
       "top     2025-02-09          Esportes\n",
       "freq             6               220"
      ]
     },
     "execution_count": 9,
     "metadata": {},
     "output_type": "execute_result"
    }
   ],
   "source": [
    "df_vendas.describe(include='object')"
   ]
  },
  {
   "cell_type": "code",
   "execution_count": 10,
   "id": "b013f233",
   "metadata": {},
   "outputs": [
    {
     "data": {
      "text/plain": [
       "ID_Pedido            1000\n",
       "Data_Compra           612\n",
       "Cliente_ID            100\n",
       "Valor_Total           996\n",
       "Categoria_Produto       5\n",
       "Quantidade              9\n",
       "dtype: int64"
      ]
     },
     "execution_count": 10,
     "metadata": {},
     "output_type": "execute_result"
    }
   ],
   "source": [
    "df_vendas.nunique()"
   ]
  },
  {
   "cell_type": "code",
   "execution_count": 11,
   "id": "0a163b26",
   "metadata": {},
   "outputs": [
    {
     "data": {
      "text/plain": [
       "np.int64(0)"
      ]
     },
     "execution_count": 11,
     "metadata": {},
     "output_type": "execute_result"
    }
   ],
   "source": [
    "# serve para contar quantos valores nulos (ou ausentes) existem na coluna \n",
    "\n",
    "df_vendas['Categoria_Produto'].isnull().sum()"
   ]
  },
  {
   "cell_type": "code",
   "execution_count": 12,
   "id": "4d84f55e",
   "metadata": {},
   "outputs": [
    {
     "data": {
      "text/plain": [
       "Index(['ID_Pedido', 'Data_Compra', 'Cliente_ID', 'Valor_Total',\n",
       "       'Categoria_Produto', 'Quantidade'],\n",
       "      dtype='object')"
      ]
     },
     "execution_count": 12,
     "metadata": {},
     "output_type": "execute_result"
    }
   ],
   "source": [
    "# verificar o nome das séries\n",
    "\n",
    "df_vendas.columns"
   ]
  },
  {
   "cell_type": "code",
   "execution_count": 13,
   "id": "fb99224e",
   "metadata": {},
   "outputs": [
    {
     "data": {
      "application/vnd.microsoft.datawrangler.viewer.v0+json": {
       "columns": [
        {
         "name": "index",
         "rawType": "int64",
         "type": "integer"
        },
        {
         "name": "id_pedido",
         "rawType": "int64",
         "type": "integer"
        },
        {
         "name": "data_compra",
         "rawType": "object",
         "type": "string"
        },
        {
         "name": "cliente_id",
         "rawType": "int64",
         "type": "integer"
        },
        {
         "name": "valor_total",
         "rawType": "float64",
         "type": "float"
        },
        {
         "name": "categoria_produto",
         "rawType": "object",
         "type": "string"
        },
        {
         "name": "quantidade",
         "rawType": "int64",
         "type": "integer"
        }
       ],
       "conversionMethod": "pd.DataFrame",
       "ref": "de35a34a-1b6d-4059-9068-d10c87f98871",
       "rows": [
        [
         "0",
         "1001",
         "2024-01-01",
         "551",
         "607.5",
         "Roupas",
         "1"
        ],
        [
         "1",
         "1002",
         "2024-01-02",
         "592",
         "758.17",
         "Beleza",
         "2"
        ],
        [
         "2",
         "1003",
         "2024-01-05",
         "514",
         "460.08",
         "Roupas",
         "6"
        ],
        [
         "3",
         "1004",
         "2024-01-04",
         "571",
         "171.2",
         "Eletrônicos",
         "5"
        ],
        [
         "4",
         "1005",
         "2024-01-05",
         "560",
         "319.59",
         "Beleza",
         "7"
        ]
       ],
       "shape": {
        "columns": 6,
        "rows": 5
       }
      },
      "text/html": [
       "<div>\n",
       "<style scoped>\n",
       "    .dataframe tbody tr th:only-of-type {\n",
       "        vertical-align: middle;\n",
       "    }\n",
       "\n",
       "    .dataframe tbody tr th {\n",
       "        vertical-align: top;\n",
       "    }\n",
       "\n",
       "    .dataframe thead th {\n",
       "        text-align: right;\n",
       "    }\n",
       "</style>\n",
       "<table border=\"1\" class=\"dataframe\">\n",
       "  <thead>\n",
       "    <tr style=\"text-align: right;\">\n",
       "      <th></th>\n",
       "      <th>id_pedido</th>\n",
       "      <th>data_compra</th>\n",
       "      <th>cliente_id</th>\n",
       "      <th>valor_total</th>\n",
       "      <th>categoria_produto</th>\n",
       "      <th>quantidade</th>\n",
       "    </tr>\n",
       "  </thead>\n",
       "  <tbody>\n",
       "    <tr>\n",
       "      <th>0</th>\n",
       "      <td>1001</td>\n",
       "      <td>2024-01-01</td>\n",
       "      <td>551</td>\n",
       "      <td>607.50</td>\n",
       "      <td>Roupas</td>\n",
       "      <td>1</td>\n",
       "    </tr>\n",
       "    <tr>\n",
       "      <th>1</th>\n",
       "      <td>1002</td>\n",
       "      <td>2024-01-02</td>\n",
       "      <td>592</td>\n",
       "      <td>758.17</td>\n",
       "      <td>Beleza</td>\n",
       "      <td>2</td>\n",
       "    </tr>\n",
       "    <tr>\n",
       "      <th>2</th>\n",
       "      <td>1003</td>\n",
       "      <td>2024-01-05</td>\n",
       "      <td>514</td>\n",
       "      <td>460.08</td>\n",
       "      <td>Roupas</td>\n",
       "      <td>6</td>\n",
       "    </tr>\n",
       "    <tr>\n",
       "      <th>3</th>\n",
       "      <td>1004</td>\n",
       "      <td>2024-01-04</td>\n",
       "      <td>571</td>\n",
       "      <td>171.20</td>\n",
       "      <td>Eletrônicos</td>\n",
       "      <td>5</td>\n",
       "    </tr>\n",
       "    <tr>\n",
       "      <th>4</th>\n",
       "      <td>1005</td>\n",
       "      <td>2024-01-05</td>\n",
       "      <td>560</td>\n",
       "      <td>319.59</td>\n",
       "      <td>Beleza</td>\n",
       "      <td>7</td>\n",
       "    </tr>\n",
       "  </tbody>\n",
       "</table>\n",
       "</div>"
      ],
      "text/plain": [
       "   id_pedido data_compra  cliente_id  valor_total categoria_produto  \\\n",
       "0       1001  2024-01-01         551       607.50            Roupas   \n",
       "1       1002  2024-01-02         592       758.17            Beleza   \n",
       "2       1003  2024-01-05         514       460.08            Roupas   \n",
       "3       1004  2024-01-04         571       171.20       Eletrônicos   \n",
       "4       1005  2024-01-05         560       319.59            Beleza   \n",
       "\n",
       "   quantidade  \n",
       "0           1  \n",
       "1           2  \n",
       "2           6  \n",
       "3           5  \n",
       "4           7  "
      ]
     },
     "execution_count": 13,
     "metadata": {},
     "output_type": "execute_result"
    }
   ],
   "source": [
    "# cria uma variavel e transforma o tamanho das letras das colunas em lista\n",
    "\n",
    "nome_colunas = list(df_vendas.columns)\n",
    "\n",
    "novas_colunas = []\n",
    "\n",
    "for coluna in nome_colunas:\n",
    "    novas_colunas.append(coluna.lower())\n",
    "\n",
    "df_vendas.columns = novas_colunas\n",
    "\n",
    "df_vendas.head()"
   ]
  },
  {
   "cell_type": "code",
   "execution_count": 14,
   "id": "1a2c89a4",
   "metadata": {},
   "outputs": [
    {
     "data": {
      "application/vnd.microsoft.datawrangler.viewer.v0+json": {
       "columns": [
        {
         "name": "index",
         "rawType": "int64",
         "type": "integer"
        },
        {
         "name": "id_pedido",
         "rawType": "int64",
         "type": "integer"
        },
        {
         "name": "data_compra",
         "rawType": "object",
         "type": "string"
        },
        {
         "name": "cliente_id",
         "rawType": "int64",
         "type": "integer"
        },
        {
         "name": "valor_total",
         "rawType": "float64",
         "type": "float"
        },
        {
         "name": "categoria_produto",
         "rawType": "object",
         "type": "string"
        },
        {
         "name": "quantidade",
         "rawType": "int64",
         "type": "integer"
        }
       ],
       "conversionMethod": "pd.DataFrame",
       "ref": "490a6b5b-e114-4c07-8282-cc1e4354fe61",
       "rows": [
        [
         "0",
         "1001",
         "2024-01-01",
         "551",
         "607.5",
         "Roupas",
         "1"
        ],
        [
         "1",
         "1002",
         "2024-01-02",
         "592",
         "758.17",
         "Beleza",
         "2"
        ],
        [
         "2",
         "1003",
         "2024-01-05",
         "514",
         "460.08",
         "Roupas",
         "6"
        ],
        [
         "3",
         "1004",
         "2024-01-04",
         "571",
         "171.2",
         "Eletrônicos",
         "5"
        ],
        [
         "4",
         "1005",
         "2024-01-05",
         "560",
         "319.59",
         "Beleza",
         "7"
        ],
        [
         "5",
         "1006",
         "2024-01-06",
         "520",
         "394.93",
         "Roupas",
         "3"
        ],
        [
         "6",
         "1007",
         "2024-01-07",
         "582",
         "663.62",
         "Casa",
         "3"
        ],
        [
         "7",
         "1008",
         "2024-01-02",
         "586",
         "592.24",
         "Eletrônicos",
         "2"
        ],
        [
         "8",
         "1009",
         "2024-01-09",
         "574",
         "388.29",
         "Eletrônicos",
         "3"
        ],
        [
         "9",
         "1010",
         "2024-01-10",
         "574",
         "987.19",
         "Eletrônicos",
         "1"
        ],
        [
         "10",
         "1011",
         "2024-01-09",
         "587",
         "625.49",
         "Casa",
         "5"
        ],
        [
         "11",
         "1012",
         "2024-01-12",
         "599",
         "275.37",
         "Casa",
         "5"
        ],
        [
         "12",
         "1013",
         "2024-01-25",
         "523",
         "146.69",
         "Esportes",
         "7"
        ],
        [
         "13",
         "1014",
         "2024-01-11",
         "502",
         "195.22",
         "Roupas",
         "4"
        ],
        [
         "14",
         "1015",
         "2024-01-15",
         "521",
         "283.66",
         "Esportes",
         "3"
        ],
        [
         "15",
         "1016",
         "2024-01-16",
         "552",
         "202.65",
         "Roupas",
         "1"
        ],
        [
         "16",
         "1017",
         "2024-01-11",
         "501",
         "227.24",
         "Casa",
         "8"
        ],
        [
         "17",
         "1018",
         "2024-01-17",
         "587",
         "320.84",
         "Casa",
         "3"
        ],
        [
         "18",
         "1019",
         "2024-01-19",
         "529",
         "214.7",
         "Esportes",
         "2"
        ],
        [
         "19",
         "1020",
         "2024-01-20",
         "537",
         "901.93",
         "Beleza",
         "4"
        ],
        [
         "20",
         "1021",
         "2024-01-09",
         "501",
         "126.22",
         "Esportes",
         "3"
        ],
        [
         "21",
         "1022",
         "2024-01-22",
         "563",
         "548.29",
         "Roupas",
         "1"
        ],
        [
         "22",
         "1023",
         "2024-01-23",
         "559",
         "439.88",
         "Esportes",
         "3"
        ],
        [
         "23",
         "1024",
         "2024-01-24",
         "520",
         "983.26",
         "Eletrônicos",
         "2"
        ],
        [
         "24",
         "1025",
         "2024-01-25",
         "532",
         "156.44",
         "Roupas",
         "8"
        ],
        [
         "25",
         "1026",
         "2024-01-26",
         "575",
         "427.96",
         "Roupas",
         "6"
        ],
        [
         "26",
         "1027",
         "2024-01-27",
         "557",
         "971.0",
         "Beleza",
         "9"
        ],
        [
         "27",
         "1028",
         "2024-01-28",
         "521",
         "872.23",
         "Casa",
         "8"
        ],
        [
         "28",
         "1029",
         "2024-01-29",
         "588",
         "826.22",
         "Roupas",
         "3"
        ],
        [
         "29",
         "1030",
         "2024-01-30",
         "548",
         "295.01",
         "Casa",
         "5"
        ],
        [
         "30",
         "1031",
         "2024-01-31",
         "590",
         "212.34",
         "Esportes",
         "7"
        ],
        [
         "31",
         "1032",
         "2024-02-01",
         "558",
         "685.21",
         "Eletrônicos",
         "5"
        ],
        [
         "32",
         "1033",
         "2024-02-02",
         "541",
         "932.91",
         "Beleza",
         "8"
        ],
        [
         "33",
         "1034",
         "2024-02-05",
         "591",
         "578.92",
         "Casa",
         "5"
        ],
        [
         "34",
         "1035",
         "2024-02-04",
         "559",
         "593.03",
         "Roupas",
         "1"
        ],
        [
         "35",
         "1036",
         "2024-02-05",
         "579",
         "315.98",
         "Casa",
         "5"
        ],
        [
         "36",
         "1037",
         "2024-02-06",
         "514",
         "781.02",
         "Roupas",
         "4"
        ],
        [
         "37",
         "1038",
         "2024-02-07",
         "561",
         "227.69",
         "Casa",
         "6"
        ],
        [
         "38",
         "1039",
         "2024-02-02",
         "561",
         "357.5",
         "Roupas",
         "3"
        ],
        [
         "39",
         "1040",
         "2024-02-09",
         "546",
         "454.16",
         "Esportes",
         "5"
        ],
        [
         "40",
         "1041",
         "2024-02-10",
         "561",
         "532.23",
         "Roupas",
         "2"
        ],
        [
         "41",
         "1042",
         "2024-02-12",
         "550",
         "280.29",
         "Roupas",
         "6"
        ],
        [
         "42",
         "1043",
         "2024-02-12",
         "554",
         "159.09",
         "Eletrônicos",
         "6"
        ],
        [
         "43",
         "1044",
         "2024-02-25",
         "563",
         "630.09",
         "Roupas",
         "5"
        ],
        [
         "44",
         "1045",
         "2024-02-11",
         "502",
         "324.2",
         "Eletrônicos",
         "6"
        ],
        [
         "45",
         "1046",
         "2024-02-15",
         "550",
         "602.18",
         "Beleza",
         "7"
        ],
        [
         "46",
         "1047",
         "2024-02-16",
         "506",
         "196.64",
         "Eletrônicos",
         "5"
        ],
        [
         "47",
         "1048",
         "2024-02-11",
         "520",
         "507.08",
         "Esportes",
         "1"
        ],
        [
         "48",
         "1049",
         "2024-02-17",
         "572",
         "555.96",
         "Eletrônicos",
         "8"
        ],
        [
         "49",
         "1050",
         "2024-02-19",
         "538",
         "99.23",
         "Beleza",
         "4"
        ]
       ],
       "shape": {
        "columns": 6,
        "rows": 1000
       }
      },
      "text/html": [
       "<div>\n",
       "<style scoped>\n",
       "    .dataframe tbody tr th:only-of-type {\n",
       "        vertical-align: middle;\n",
       "    }\n",
       "\n",
       "    .dataframe tbody tr th {\n",
       "        vertical-align: top;\n",
       "    }\n",
       "\n",
       "    .dataframe thead th {\n",
       "        text-align: right;\n",
       "    }\n",
       "</style>\n",
       "<table border=\"1\" class=\"dataframe\">\n",
       "  <thead>\n",
       "    <tr style=\"text-align: right;\">\n",
       "      <th></th>\n",
       "      <th>id_pedido</th>\n",
       "      <th>data_compra</th>\n",
       "      <th>cliente_id</th>\n",
       "      <th>valor_total</th>\n",
       "      <th>categoria_produto</th>\n",
       "      <th>quantidade</th>\n",
       "    </tr>\n",
       "  </thead>\n",
       "  <tbody>\n",
       "    <tr>\n",
       "      <th>0</th>\n",
       "      <td>1001</td>\n",
       "      <td>2024-01-01</td>\n",
       "      <td>551</td>\n",
       "      <td>607.50</td>\n",
       "      <td>Roupas</td>\n",
       "      <td>1</td>\n",
       "    </tr>\n",
       "    <tr>\n",
       "      <th>1</th>\n",
       "      <td>1002</td>\n",
       "      <td>2024-01-02</td>\n",
       "      <td>592</td>\n",
       "      <td>758.17</td>\n",
       "      <td>Beleza</td>\n",
       "      <td>2</td>\n",
       "    </tr>\n",
       "    <tr>\n",
       "      <th>2</th>\n",
       "      <td>1003</td>\n",
       "      <td>2024-01-05</td>\n",
       "      <td>514</td>\n",
       "      <td>460.08</td>\n",
       "      <td>Roupas</td>\n",
       "      <td>6</td>\n",
       "    </tr>\n",
       "    <tr>\n",
       "      <th>3</th>\n",
       "      <td>1004</td>\n",
       "      <td>2024-01-04</td>\n",
       "      <td>571</td>\n",
       "      <td>171.20</td>\n",
       "      <td>Eletrônicos</td>\n",
       "      <td>5</td>\n",
       "    </tr>\n",
       "    <tr>\n",
       "      <th>4</th>\n",
       "      <td>1005</td>\n",
       "      <td>2024-01-05</td>\n",
       "      <td>560</td>\n",
       "      <td>319.59</td>\n",
       "      <td>Beleza</td>\n",
       "      <td>7</td>\n",
       "    </tr>\n",
       "    <tr>\n",
       "      <th>...</th>\n",
       "      <td>...</td>\n",
       "      <td>...</td>\n",
       "      <td>...</td>\n",
       "      <td>...</td>\n",
       "      <td>...</td>\n",
       "      <td>...</td>\n",
       "    </tr>\n",
       "    <tr>\n",
       "      <th>995</th>\n",
       "      <td>1996</td>\n",
       "      <td>2026-09-22</td>\n",
       "      <td>509</td>\n",
       "      <td>834.76</td>\n",
       "      <td>Beleza</td>\n",
       "      <td>4</td>\n",
       "    </tr>\n",
       "    <tr>\n",
       "      <th>996</th>\n",
       "      <td>1997</td>\n",
       "      <td>2026-09-23</td>\n",
       "      <td>566</td>\n",
       "      <td>792.93</td>\n",
       "      <td>Esportes</td>\n",
       "      <td>3</td>\n",
       "    </tr>\n",
       "    <tr>\n",
       "      <th>997</th>\n",
       "      <td>1998</td>\n",
       "      <td>2026-09-24</td>\n",
       "      <td>517</td>\n",
       "      <td>723.31</td>\n",
       "      <td>Beleza</td>\n",
       "      <td>3</td>\n",
       "    </tr>\n",
       "    <tr>\n",
       "      <th>998</th>\n",
       "      <td>1999</td>\n",
       "      <td>2026-09-25</td>\n",
       "      <td>599</td>\n",
       "      <td>84.35</td>\n",
       "      <td>Beleza</td>\n",
       "      <td>3</td>\n",
       "    </tr>\n",
       "    <tr>\n",
       "      <th>999</th>\n",
       "      <td>2000</td>\n",
       "      <td>2026-09-26</td>\n",
       "      <td>585</td>\n",
       "      <td>337.97</td>\n",
       "      <td>Eletrônicos</td>\n",
       "      <td>6</td>\n",
       "    </tr>\n",
       "  </tbody>\n",
       "</table>\n",
       "<p>1000 rows × 6 columns</p>\n",
       "</div>"
      ],
      "text/plain": [
       "     id_pedido data_compra  cliente_id  valor_total categoria_produto  \\\n",
       "0         1001  2024-01-01         551       607.50            Roupas   \n",
       "1         1002  2024-01-02         592       758.17            Beleza   \n",
       "2         1003  2024-01-05         514       460.08            Roupas   \n",
       "3         1004  2024-01-04         571       171.20       Eletrônicos   \n",
       "4         1005  2024-01-05         560       319.59            Beleza   \n",
       "..         ...         ...         ...          ...               ...   \n",
       "995       1996  2026-09-22         509       834.76            Beleza   \n",
       "996       1997  2026-09-23         566       792.93          Esportes   \n",
       "997       1998  2026-09-24         517       723.31            Beleza   \n",
       "998       1999  2026-09-25         599        84.35            Beleza   \n",
       "999       2000  2026-09-26         585       337.97       Eletrônicos   \n",
       "\n",
       "     quantidade  \n",
       "0             1  \n",
       "1             2  \n",
       "2             6  \n",
       "3             5  \n",
       "4             7  \n",
       "..          ...  \n",
       "995           4  \n",
       "996           3  \n",
       "997           3  \n",
       "998           3  \n",
       "999           6  \n",
       "\n",
       "[1000 rows x 6 columns]"
      ]
     },
     "execution_count": 14,
     "metadata": {},
     "output_type": "execute_result"
    }
   ],
   "source": [
    "# forma simplificada de alterar\n",
    "\n",
    "df_vendas.columns = [coluna.lower() for coluna in list(df_vendas.columns)]\n",
    "\n",
    "df_vendas"
   ]
  },
  {
   "cell_type": "code",
   "execution_count": 15,
   "id": "4d6d9a16",
   "metadata": {},
   "outputs": [
    {
     "data": {
      "text/plain": [
       "categoria_produto\n",
       "Esportes       220\n",
       "Beleza         206\n",
       "Eletrônicos    199\n",
       "Casa           193\n",
       "Roupas         182\n",
       "Name: count, dtype: int64"
      ]
     },
     "execution_count": 15,
     "metadata": {},
     "output_type": "execute_result"
    }
   ],
   "source": [
    "df_vendas['categoria_produto'].value_counts()\n",
    "\n"
   ]
  },
  {
   "cell_type": "code",
   "execution_count": 16,
   "id": "426ec09d",
   "metadata": {},
   "outputs": [],
   "source": [
    "valores_cliente = df_vendas.groupby('cliente_id')['valor_total'].sum()"
   ]
  },
  {
   "cell_type": "code",
   "execution_count": 27,
   "id": "c508be8e",
   "metadata": {},
   "outputs": [
    {
     "data": {
      "image/png": "[encoded data removed]",
      "text/plain": [
       "<Figure size 640x480 with 1 Axes>"
      ]
     },
     "metadata": {},
     "output_type": "display_data"
    }
   ],
   "source": [
    "import matplotlib.pyplot as plt\n",
    "\n",
    "plt.bar(\n",
    "    df_vendas['categoria_produto'].unique(),\n",
    "    df_vendas['categoria_produto'].value_counts()\n",
    ")\n",
    "plt.title('')\n",
    "plt.ylabel('vendas')\n",
    "plt.xlabel('categoria dos produtos')\n",
    "plt.show()"
   ]
  }
 ],
 "metadata": {
  "kernelspec": {
   "display_name": ".venv",
   "language": "python",
   "name": "python3"
  },
  "language_info": {
   "codemirror_mode": {
    "name": "ipython",
    "version": 3
   },
   "file_extension": ".py",
   "mimetype": "text/x-python",
   "name": "python",
   "nbconvert_exporter": "python",
   "pygments_lexer": "ipython3",
   "version": "3.12.10"
  }
 },
 "nbformat": 4,
 "nbformat_minor": 5
}
