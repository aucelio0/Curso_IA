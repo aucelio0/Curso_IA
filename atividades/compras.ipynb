{
 "cells": [
  {
   "cell_type": "code",
   "execution_count": 1,
   "id": "584a1ae1-ed60-4f9a-b51b-add85eb0231a",
   "metadata": {},
   "outputs": [],
   "source": [
    "!pip install pandas -q"
   ]
  },
  {
   "cell_type": "code",
   "execution_count": 2,
   "id": "f370fc82-c4a2-4bdf-a713-3b2b9cf5ce91",
   "metadata": {},
   "outputs": [],
   "source": [
    "import pandas as pd"
   ]
  },
  {
   "cell_type": "code",
   "execution_count": 8,
   "id": "2f733a2e-73f3-48d6-8e56-09517da778b8",
   "metadata": {},
   "outputs": [],
   "source": [
    "dados = pd.read_csv(\"./vendas.csv\", sep= ';')"
   ]
  },
  {
   "cell_type": "code",
   "execution_count": 9,
   "id": "613422b4-3a73-4c6b-aff9-f3bad6d5a21d",
   "metadata": {},
   "outputs": [
    {
     "data": {
      "text/html": [
       "<div>\n",
       "<style scoped>\n",
       "    .dataframe tbody tr th:only-of-type {\n",
       "        vertical-align: middle;\n",
       "    }\n",
       "\n",
       "    .dataframe tbody tr th {\n",
       "        vertical-align: top;\n",
       "    }\n",
       "\n",
       "    .dataframe thead th {\n",
       "        text-align: right;\n",
       "    }\n",
       "</style>\n",
       "<table border=\"1\" class=\"dataframe\">\n",
       "  <thead>\n",
       "    <tr style=\"text-align: right;\">\n",
       "      <th></th>\n",
       "      <th>ID_Pedido</th>\n",
       "      <th>Data_Compra</th>\n",
       "      <th>Cliente_ID</th>\n",
       "      <th>Valor_Total</th>\n",
       "      <th>Categoria_Produto</th>\n",
       "      <th>Quantidade</th>\n",
       "    </tr>\n",
       "  </thead>\n",
       "  <tbody>\n",
       "    <tr>\n",
       "      <th>0</th>\n",
       "      <td>1001</td>\n",
       "      <td>2024-03-01</td>\n",
       "      <td>501</td>\n",
       "      <td>150.75</td>\n",
       "      <td>Eletrônicos</td>\n",
       "      <td>1</td>\n",
       "    </tr>\n",
       "    <tr>\n",
       "      <th>1</th>\n",
       "      <td>1002</td>\n",
       "      <td>2024-03-02</td>\n",
       "      <td>502</td>\n",
       "      <td>200.50</td>\n",
       "      <td>Roupas</td>\n",
       "      <td>3</td>\n",
       "    </tr>\n",
       "    <tr>\n",
       "      <th>2</th>\n",
       "      <td>1003</td>\n",
       "      <td>2024-03-03</td>\n",
       "      <td>503</td>\n",
       "      <td>320.00</td>\n",
       "      <td>Casa</td>\n",
       "      <td>2</td>\n",
       "    </tr>\n",
       "    <tr>\n",
       "      <th>3</th>\n",
       "      <td>1004</td>\n",
       "      <td>2024-03-04</td>\n",
       "      <td>501</td>\n",
       "      <td>90.25</td>\n",
       "      <td>Eletrônicos</td>\n",
       "      <td>1</td>\n",
       "    </tr>\n",
       "    <tr>\n",
       "      <th>4</th>\n",
       "      <td>1005</td>\n",
       "      <td>2024-03-05</td>\n",
       "      <td>504</td>\n",
       "      <td>450.60</td>\n",
       "      <td>Esportes</td>\n",
       "      <td>4</td>\n",
       "    </tr>\n",
       "  </tbody>\n",
       "</table>\n",
       "</div>"
      ],
      "text/plain": [
       "   ID_Pedido Data_Compra  Cliente_ID  Valor_Total Categoria_Produto  \\\n",
       "0       1001  2024-03-01         501       150.75       Eletrônicos   \n",
       "1       1002  2024-03-02         502       200.50            Roupas   \n",
       "2       1003  2024-03-03         503       320.00              Casa   \n",
       "3       1004  2024-03-04         501        90.25       Eletrônicos   \n",
       "4       1005  2024-03-05         504       450.60          Esportes   \n",
       "\n",
       "   Quantidade  \n",
       "0           1  \n",
       "1           3  \n",
       "2           2  \n",
       "3           1  \n",
       "4           4  "
      ]
     },
     "execution_count": 9,
     "metadata": {},
     "output_type": "execute_result"
    }
   ],
   "source": [
    "dados"
   ]
  },
  {
   "cell_type": "markdown",
   "id": "03a8752b-94a9-4660-bdf0-a7f163bdcf26",
   "metadata": {},
   "source": [
    "## Análise exploratória:\n",
    "Trata-se do reconhecimento inicial dos dados no dataset."
   ]
  },
  {
   "cell_type": "code",
   "execution_count": 10,
   "id": "38c83884-a405-4aec-b64e-c32c5b1d971d",
   "metadata": {},
   "outputs": [
    {
     "data": {
      "text/html": [
       "<div>\n",
       "<style scoped>\n",
       "    .dataframe tbody tr th:only-of-type {\n",
       "        vertical-align: middle;\n",
       "    }\n",
       "\n",
       "    .dataframe tbody tr th {\n",
       "        vertical-align: top;\n",
       "    }\n",
       "\n",
       "    .dataframe thead th {\n",
       "        text-align: right;\n",
       "    }\n",
       "</style>\n",
       "<table border=\"1\" class=\"dataframe\">\n",
       "  <thead>\n",
       "    <tr style=\"text-align: right;\">\n",
       "      <th></th>\n",
       "      <th>ID_Pedido</th>\n",
       "      <th>Data_Compra</th>\n",
       "      <th>Cliente_ID</th>\n",
       "      <th>Valor_Total</th>\n",
       "      <th>Categoria_Produto</th>\n",
       "      <th>Quantidade</th>\n",
       "    </tr>\n",
       "  </thead>\n",
       "  <tbody>\n",
       "    <tr>\n",
       "      <th>0</th>\n",
       "      <td>1001</td>\n",
       "      <td>2024-03-01</td>\n",
       "      <td>501</td>\n",
       "      <td>150.75</td>\n",
       "      <td>Eletrônicos</td>\n",
       "      <td>1</td>\n",
       "    </tr>\n",
       "    <tr>\n",
       "      <th>1</th>\n",
       "      <td>1002</td>\n",
       "      <td>2024-03-02</td>\n",
       "      <td>502</td>\n",
       "      <td>200.50</td>\n",
       "      <td>Roupas</td>\n",
       "      <td>3</td>\n",
       "    </tr>\n",
       "    <tr>\n",
       "      <th>2</th>\n",
       "      <td>1003</td>\n",
       "      <td>2024-03-03</td>\n",
       "      <td>503</td>\n",
       "      <td>320.00</td>\n",
       "      <td>Casa</td>\n",
       "      <td>2</td>\n",
       "    </tr>\n",
       "    <tr>\n",
       "      <th>3</th>\n",
       "      <td>1004</td>\n",
       "      <td>2024-03-04</td>\n",
       "      <td>501</td>\n",
       "      <td>90.25</td>\n",
       "      <td>Eletrônicos</td>\n",
       "      <td>1</td>\n",
       "    </tr>\n",
       "    <tr>\n",
       "      <th>4</th>\n",
       "      <td>1005</td>\n",
       "      <td>2024-03-05</td>\n",
       "      <td>504</td>\n",
       "      <td>450.60</td>\n",
       "      <td>Esportes</td>\n",
       "      <td>4</td>\n",
       "    </tr>\n",
       "  </tbody>\n",
       "</table>\n",
       "</div>"
      ],
      "text/plain": [
       "   ID_Pedido Data_Compra  Cliente_ID  Valor_Total Categoria_Produto  \\\n",
       "0       1001  2024-03-01         501       150.75       Eletrônicos   \n",
       "1       1002  2024-03-02         502       200.50            Roupas   \n",
       "2       1003  2024-03-03         503       320.00              Casa   \n",
       "3       1004  2024-03-04         501        90.25       Eletrônicos   \n",
       "4       1005  2024-03-05         504       450.60          Esportes   \n",
       "\n",
       "   Quantidade  \n",
       "0           1  \n",
       "1           3  \n",
       "2           2  \n",
       "3           1  \n",
       "4           4  "
      ]
     },
     "execution_count": 10,
     "metadata": {},
     "output_type": "execute_result"
    }
   ],
   "source": [
    "# visualiza as linhas iniciais dos dados\n",
    "dados.head()"
   ]
  },
  {
   "cell_type": "code",
   "execution_count": 11,
   "id": "25a538ef-df44-4240-98e7-028ecec2fb08",
   "metadata": {},
   "outputs": [
    {
     "data": {
      "text/html": [
       "<div>\n",
       "<style scoped>\n",
       "    .dataframe tbody tr th:only-of-type {\n",
       "        vertical-align: middle;\n",
       "    }\n",
       "\n",
       "    .dataframe tbody tr th {\n",
       "        vertical-align: top;\n",
       "    }\n",
       "\n",
       "    .dataframe thead th {\n",
       "        text-align: right;\n",
       "    }\n",
       "</style>\n",
       "<table border=\"1\" class=\"dataframe\">\n",
       "  <thead>\n",
       "    <tr style=\"text-align: right;\">\n",
       "      <th></th>\n",
       "      <th>ID_Pedido</th>\n",
       "      <th>Data_Compra</th>\n",
       "      <th>Cliente_ID</th>\n",
       "      <th>Valor_Total</th>\n",
       "      <th>Categoria_Produto</th>\n",
       "      <th>Quantidade</th>\n",
       "    </tr>\n",
       "  </thead>\n",
       "  <tbody>\n",
       "    <tr>\n",
       "      <th>0</th>\n",
       "      <td>1001</td>\n",
       "      <td>2024-03-01</td>\n",
       "      <td>501</td>\n",
       "      <td>150.75</td>\n",
       "      <td>Eletrônicos</td>\n",
       "      <td>1</td>\n",
       "    </tr>\n",
       "    <tr>\n",
       "      <th>1</th>\n",
       "      <td>1002</td>\n",
       "      <td>2024-03-02</td>\n",
       "      <td>502</td>\n",
       "      <td>200.50</td>\n",
       "      <td>Roupas</td>\n",
       "      <td>3</td>\n",
       "    </tr>\n",
       "    <tr>\n",
       "      <th>2</th>\n",
       "      <td>1003</td>\n",
       "      <td>2024-03-03</td>\n",
       "      <td>503</td>\n",
       "      <td>320.00</td>\n",
       "      <td>Casa</td>\n",
       "      <td>2</td>\n",
       "    </tr>\n",
       "    <tr>\n",
       "      <th>3</th>\n",
       "      <td>1004</td>\n",
       "      <td>2024-03-04</td>\n",
       "      <td>501</td>\n",
       "      <td>90.25</td>\n",
       "      <td>Eletrônicos</td>\n",
       "      <td>1</td>\n",
       "    </tr>\n",
       "    <tr>\n",
       "      <th>4</th>\n",
       "      <td>1005</td>\n",
       "      <td>2024-03-05</td>\n",
       "      <td>504</td>\n",
       "      <td>450.60</td>\n",
       "      <td>Esportes</td>\n",
       "      <td>4</td>\n",
       "    </tr>\n",
       "  </tbody>\n",
       "</table>\n",
       "</div>"
      ],
      "text/plain": [
       "   ID_Pedido Data_Compra  Cliente_ID  Valor_Total Categoria_Produto  \\\n",
       "0       1001  2024-03-01         501       150.75       Eletrônicos   \n",
       "1       1002  2024-03-02         502       200.50            Roupas   \n",
       "2       1003  2024-03-03         503       320.00              Casa   \n",
       "3       1004  2024-03-04         501        90.25       Eletrônicos   \n",
       "4       1005  2024-03-05         504       450.60          Esportes   \n",
       "\n",
       "   Quantidade  \n",
       "0           1  \n",
       "1           3  \n",
       "2           2  \n",
       "3           1  \n",
       "4           4  "
      ]
     },
     "execution_count": 11,
     "metadata": {},
     "output_type": "execute_result"
    }
   ],
   "source": [
    "# vizualiza as ultimas linhas do dataset\n",
    "dados.tail()"
   ]
  },
  {
   "cell_type": "code",
   "execution_count": 12,
   "id": "332942ae-61de-4973-ad02-11c6f0460594",
   "metadata": {},
   "outputs": [
    {
     "data": {
      "text/plain": [
       "(5, 6)"
      ]
     },
     "execution_count": 12,
     "metadata": {},
     "output_type": "execute_result"
    }
   ],
   "source": [
    "# Mostrar a quantidade de linhas e a quantidade de séries(colunas)\n",
    "dados.shape"
   ]
  },
  {
   "cell_type": "code",
   "execution_count": 13,
   "id": "60bdadd6-1332-4e56-92a5-10d468497311",
   "metadata": {},
   "outputs": [
    {
     "data": {
      "text/html": [
       "<div>\n",
       "<style scoped>\n",
       "    .dataframe tbody tr th:only-of-type {\n",
       "        vertical-align: middle;\n",
       "    }\n",
       "\n",
       "    .dataframe tbody tr th {\n",
       "        vertical-align: top;\n",
       "    }\n",
       "\n",
       "    .dataframe thead th {\n",
       "        text-align: right;\n",
       "    }\n",
       "</style>\n",
       "<table border=\"1\" class=\"dataframe\">\n",
       "  <thead>\n",
       "    <tr style=\"text-align: right;\">\n",
       "      <th></th>\n",
       "      <th>ID_Pedido</th>\n",
       "      <th>Cliente_ID</th>\n",
       "      <th>Valor_Total</th>\n",
       "      <th>Quantidade</th>\n",
       "    </tr>\n",
       "  </thead>\n",
       "  <tbody>\n",
       "    <tr>\n",
       "      <th>count</th>\n",
       "      <td>5.000000</td>\n",
       "      <td>5.00000</td>\n",
       "      <td>5.000000</td>\n",
       "      <td>5.00000</td>\n",
       "    </tr>\n",
       "    <tr>\n",
       "      <th>mean</th>\n",
       "      <td>1003.000000</td>\n",
       "      <td>502.20000</td>\n",
       "      <td>242.420000</td>\n",
       "      <td>2.20000</td>\n",
       "    </tr>\n",
       "    <tr>\n",
       "      <th>std</th>\n",
       "      <td>1.581139</td>\n",
       "      <td>1.30384</td>\n",
       "      <td>143.765393</td>\n",
       "      <td>1.30384</td>\n",
       "    </tr>\n",
       "    <tr>\n",
       "      <th>min</th>\n",
       "      <td>1001.000000</td>\n",
       "      <td>501.00000</td>\n",
       "      <td>90.250000</td>\n",
       "      <td>1.00000</td>\n",
       "    </tr>\n",
       "    <tr>\n",
       "      <th>25%</th>\n",
       "      <td>1002.000000</td>\n",
       "      <td>501.00000</td>\n",
       "      <td>150.750000</td>\n",
       "      <td>1.00000</td>\n",
       "    </tr>\n",
       "    <tr>\n",
       "      <th>50%</th>\n",
       "      <td>1003.000000</td>\n",
       "      <td>502.00000</td>\n",
       "      <td>200.500000</td>\n",
       "      <td>2.00000</td>\n",
       "    </tr>\n",
       "    <tr>\n",
       "      <th>75%</th>\n",
       "      <td>1004.000000</td>\n",
       "      <td>503.00000</td>\n",
       "      <td>320.000000</td>\n",
       "      <td>3.00000</td>\n",
       "    </tr>\n",
       "    <tr>\n",
       "      <th>max</th>\n",
       "      <td>1005.000000</td>\n",
       "      <td>504.00000</td>\n",
       "      <td>450.600000</td>\n",
       "      <td>4.00000</td>\n",
       "    </tr>\n",
       "  </tbody>\n",
       "</table>\n",
       "</div>"
      ],
      "text/plain": [
       "         ID_Pedido  Cliente_ID  Valor_Total  Quantidade\n",
       "count     5.000000     5.00000     5.000000     5.00000\n",
       "mean   1003.000000   502.20000   242.420000     2.20000\n",
       "std       1.581139     1.30384   143.765393     1.30384\n",
       "min    1001.000000   501.00000    90.250000     1.00000\n",
       "25%    1002.000000   501.00000   150.750000     1.00000\n",
       "50%    1003.000000   502.00000   200.500000     2.00000\n",
       "75%    1004.000000   503.00000   320.000000     3.00000\n",
       "max    1005.000000   504.00000   450.600000     4.00000"
      ]
     },
     "execution_count": 13,
     "metadata": {},
     "output_type": "execute_result"
    }
   ],
   "source": [
    "dados.describe()"
   ]
  },
  {
   "cell_type": "code",
   "execution_count": 16,
   "id": "19b4a866-b83b-425e-a32c-2aa41d6795d4",
   "metadata": {},
   "outputs": [
    {
     "name": "stdout",
     "output_type": "stream",
     "text": [
      "Variancia: 20668.488250000002\n",
      "Mediana: 200.5\n"
     ]
    }
   ],
   "source": [
    "variancia = dados['Valor_Total'].var()\n",
    "mediana = dados['Valor_Total'].median()\n",
    "\n",
    "print(f'Variancia: {variancia}')\n",
    "print(f'Mediana: {mediana}')"
   ]
  },
  {
   "cell_type": "code",
   "execution_count": 17,
   "id": "bb3695b2-b385-4d4b-a959-9c7dec6fa69f",
   "metadata": {},
   "outputs": [
    {
     "name": "stdout",
     "output_type": "stream",
     "text": [
      "<class 'pandas.core.frame.DataFrame'>\n",
      "RangeIndex: 5 entries, 0 to 4\n",
      "Data columns (total 6 columns):\n",
      " #   Column             Non-Null Count  Dtype  \n",
      "---  ------             --------------  -----  \n",
      " 0   ID_Pedido          5 non-null      int64  \n",
      " 1   Data_Compra        5 non-null      object \n",
      " 2   Cliente_ID         5 non-null      int64  \n",
      " 3   Valor_Total        5 non-null      float64\n",
      " 4   Categoria_Produto  5 non-null      object \n",
      " 5   Quantidade         5 non-null      int64  \n",
      "dtypes: float64(1), int64(3), object(2)\n",
      "memory usage: 372.0+ bytes\n"
     ]
    }
   ],
   "source": [
    "dados.info()"
   ]
  },
  {
   "cell_type": "code",
   "execution_count": 18,
   "id": "cccf343b-3be1-423b-8d40-68da8df0cacc",
   "metadata": {},
   "outputs": [
    {
     "data": {
      "text/plain": [
       "array(['Eletrônicos', 'Roupas', 'Casa', 'Esportes'], dtype=object)"
      ]
     },
     "execution_count": 18,
     "metadata": {},
     "output_type": "execute_result"
    }
   ],
   "source": [
    "dados['Categoria_Produto'].unique()"
   ]
  },
  {
   "cell_type": "code",
   "execution_count": 29,
   "id": "37a44503-8185-4fa7-9765-980e1d54eec2",
   "metadata": {},
   "outputs": [
    {
     "data": {
      "text/plain": [
       "Categoria_Produto\n",
       "Eletrônicos    2\n",
       "Roupas         1\n",
       "Casa           1\n",
       "Esportes       1\n",
       "Name: count, dtype: int64"
      ]
     },
     "execution_count": 29,
     "metadata": {},
     "output_type": "execute_result"
    }
   ],
   "source": [
    "dados['Categoria_Produto'].value_counts()"
   ]
  },
  {
   "cell_type": "code",
   "execution_count": 31,
   "id": "6362ac10-a679-4fc0-9368-4910b5be2944",
   "metadata": {},
   "outputs": [
    {
     "data": {
      "text/plain": [
       "Index(['ID_Pedido', 'Data_Compra', 'Cliente_ID', 'Valor_Total',\n",
       "       'Categoria_Produto', 'Quantidade'],\n",
       "      dtype='object')"
      ]
     },
     "execution_count": 31,
     "metadata": {},
     "output_type": "execute_result"
    }
   ],
   "source": [
    "# visualizar nome das colunas \n",
    "dados.columns"
   ]
  },
  {
   "cell_type": "code",
   "execution_count": 33,
   "id": "3723c368-e927-440e-a558-c1ad0e9df2e5",
   "metadata": {},
   "outputs": [
    {
     "data": {
      "text/html": [
       "<div>\n",
       "<style scoped>\n",
       "    .dataframe tbody tr th:only-of-type {\n",
       "        vertical-align: middle;\n",
       "    }\n",
       "\n",
       "    .dataframe tbody tr th {\n",
       "        vertical-align: top;\n",
       "    }\n",
       "\n",
       "    .dataframe thead th {\n",
       "        text-align: right;\n",
       "    }\n",
       "</style>\n",
       "<table border=\"1\" class=\"dataframe\">\n",
       "  <thead>\n",
       "    <tr style=\"text-align: right;\">\n",
       "      <th></th>\n",
       "      <th>ID_Pedido</th>\n",
       "      <th>dt_compra</th>\n",
       "      <th>Cliente_ID</th>\n",
       "      <th>Valor_Total</th>\n",
       "      <th>categoria</th>\n",
       "      <th>Quantidade</th>\n",
       "    </tr>\n",
       "  </thead>\n",
       "  <tbody>\n",
       "    <tr>\n",
       "      <th>0</th>\n",
       "      <td>1001</td>\n",
       "      <td>2024-03-01</td>\n",
       "      <td>501</td>\n",
       "      <td>150.75</td>\n",
       "      <td>Eletrônicos</td>\n",
       "      <td>1</td>\n",
       "    </tr>\n",
       "    <tr>\n",
       "      <th>1</th>\n",
       "      <td>1002</td>\n",
       "      <td>2024-03-02</td>\n",
       "      <td>502</td>\n",
       "      <td>200.50</td>\n",
       "      <td>Roupas</td>\n",
       "      <td>3</td>\n",
       "    </tr>\n",
       "    <tr>\n",
       "      <th>2</th>\n",
       "      <td>1003</td>\n",
       "      <td>2024-03-03</td>\n",
       "      <td>503</td>\n",
       "      <td>320.00</td>\n",
       "      <td>Casa</td>\n",
       "      <td>2</td>\n",
       "    </tr>\n",
       "    <tr>\n",
       "      <th>3</th>\n",
       "      <td>1004</td>\n",
       "      <td>2024-03-04</td>\n",
       "      <td>501</td>\n",
       "      <td>90.25</td>\n",
       "      <td>Eletrônicos</td>\n",
       "      <td>1</td>\n",
       "    </tr>\n",
       "    <tr>\n",
       "      <th>4</th>\n",
       "      <td>1005</td>\n",
       "      <td>2024-03-05</td>\n",
       "      <td>504</td>\n",
       "      <td>450.60</td>\n",
       "      <td>Esportes</td>\n",
       "      <td>4</td>\n",
       "    </tr>\n",
       "  </tbody>\n",
       "</table>\n",
       "</div>"
      ],
      "text/plain": [
       "   ID_Pedido   dt_compra  Cliente_ID  Valor_Total    categoria  Quantidade\n",
       "0       1001  2024-03-01         501       150.75  Eletrônicos           1\n",
       "1       1002  2024-03-02         502       200.50       Roupas           3\n",
       "2       1003  2024-03-03         503       320.00         Casa           2\n",
       "3       1004  2024-03-04         501        90.25  Eletrônicos           1\n",
       "4       1005  2024-03-05         504       450.60     Esportes           4"
      ]
     },
     "execution_count": 33,
     "metadata": {},
     "output_type": "execute_result"
    }
   ],
   "source": [
    "dados.rename(columns= {\n",
    "              'Data_Compra': 'dt_compra',\n",
    "              'Categoria_Produto': 'categoria'}\n",
    "            )"
   ]
  },
  {
   "cell_type": "code",
   "execution_count": 34,
   "id": "709d7a3a-532e-4f09-9ee8-25d697e4ce71",
   "metadata": {},
   "outputs": [
    {
     "data": {
      "text/html": [
       "<div>\n",
       "<style scoped>\n",
       "    .dataframe tbody tr th:only-of-type {\n",
       "        vertical-align: middle;\n",
       "    }\n",
       "\n",
       "    .dataframe tbody tr th {\n",
       "        vertical-align: top;\n",
       "    }\n",
       "\n",
       "    .dataframe thead th {\n",
       "        text-align: right;\n",
       "    }\n",
       "</style>\n",
       "<table border=\"1\" class=\"dataframe\">\n",
       "  <thead>\n",
       "    <tr style=\"text-align: right;\">\n",
       "      <th></th>\n",
       "      <th>pedido</th>\n",
       "      <th>data</th>\n",
       "      <th>cliente</th>\n",
       "      <th>total</th>\n",
       "      <th>categoria</th>\n",
       "      <th>qtd</th>\n",
       "    </tr>\n",
       "  </thead>\n",
       "  <tbody>\n",
       "    <tr>\n",
       "      <th>0</th>\n",
       "      <td>1001</td>\n",
       "      <td>2024-03-01</td>\n",
       "      <td>501</td>\n",
       "      <td>150.75</td>\n",
       "      <td>Eletrônicos</td>\n",
       "      <td>1</td>\n",
       "    </tr>\n",
       "    <tr>\n",
       "      <th>1</th>\n",
       "      <td>1002</td>\n",
       "      <td>2024-03-02</td>\n",
       "      <td>502</td>\n",
       "      <td>200.50</td>\n",
       "      <td>Roupas</td>\n",
       "      <td>3</td>\n",
       "    </tr>\n",
       "    <tr>\n",
       "      <th>2</th>\n",
       "      <td>1003</td>\n",
       "      <td>2024-03-03</td>\n",
       "      <td>503</td>\n",
       "      <td>320.00</td>\n",
       "      <td>Casa</td>\n",
       "      <td>2</td>\n",
       "    </tr>\n",
       "    <tr>\n",
       "      <th>3</th>\n",
       "      <td>1004</td>\n",
       "      <td>2024-03-04</td>\n",
       "      <td>501</td>\n",
       "      <td>90.25</td>\n",
       "      <td>Eletrônicos</td>\n",
       "      <td>1</td>\n",
       "    </tr>\n",
       "    <tr>\n",
       "      <th>4</th>\n",
       "      <td>1005</td>\n",
       "      <td>2024-03-05</td>\n",
       "      <td>504</td>\n",
       "      <td>450.60</td>\n",
       "      <td>Esportes</td>\n",
       "      <td>4</td>\n",
       "    </tr>\n",
       "  </tbody>\n",
       "</table>\n",
       "</div>"
      ],
      "text/plain": [
       "   pedido        data  cliente   total    categoria  qtd\n",
       "0    1001  2024-03-01      501  150.75  Eletrônicos    1\n",
       "1    1002  2024-03-02      502  200.50       Roupas    3\n",
       "2    1003  2024-03-03      503  320.00         Casa    2\n",
       "3    1004  2024-03-04      501   90.25  Eletrônicos    1\n",
       "4    1005  2024-03-05      504  450.60     Esportes    4"
      ]
     },
     "execution_count": 34,
     "metadata": {},
     "output_type": "execute_result"
    }
   ],
   "source": [
    "colunas = ['pedido', 'data', 'cliente', 'total', 'categoria', 'qtd']\n",
    "\n",
    "dados.columns= colunas\n",
    "\n",
    "dados"
   ]
  },
  {
   "cell_type": "code",
   "execution_count": 43,
   "id": "c7e107e0-e6e3-4ee2-a31e-66c838ddc032",
   "metadata": {},
   "outputs": [
    {
     "data": {
      "text/html": [
       "<div>\n",
       "<style scoped>\n",
       "    .dataframe tbody tr th:only-of-type {\n",
       "        vertical-align: middle;\n",
       "    }\n",
       "\n",
       "    .dataframe tbody tr th {\n",
       "        vertical-align: top;\n",
       "    }\n",
       "\n",
       "    .dataframe thead th {\n",
       "        text-align: right;\n",
       "    }\n",
       "</style>\n",
       "<table border=\"1\" class=\"dataframe\">\n",
       "  <thead>\n",
       "    <tr style=\"text-align: right;\">\n",
       "      <th></th>\n",
       "      <th>PEDIDO</th>\n",
       "      <th>DATA</th>\n",
       "      <th>CLIENTE</th>\n",
       "      <th>TOTAL</th>\n",
       "      <th>CATEGORIA</th>\n",
       "      <th>QTD</th>\n",
       "    </tr>\n",
       "  </thead>\n",
       "  <tbody>\n",
       "    <tr>\n",
       "      <th>0</th>\n",
       "      <td>1001</td>\n",
       "      <td>2024-03-01</td>\n",
       "      <td>501</td>\n",
       "      <td>150.75</td>\n",
       "      <td>Eletrônicos</td>\n",
       "      <td>1</td>\n",
       "    </tr>\n",
       "    <tr>\n",
       "      <th>1</th>\n",
       "      <td>1002</td>\n",
       "      <td>2024-03-02</td>\n",
       "      <td>502</td>\n",
       "      <td>200.50</td>\n",
       "      <td>Roupas</td>\n",
       "      <td>3</td>\n",
       "    </tr>\n",
       "    <tr>\n",
       "      <th>2</th>\n",
       "      <td>1003</td>\n",
       "      <td>2024-03-03</td>\n",
       "      <td>503</td>\n",
       "      <td>320.00</td>\n",
       "      <td>Casa</td>\n",
       "      <td>2</td>\n",
       "    </tr>\n",
       "    <tr>\n",
       "      <th>3</th>\n",
       "      <td>1004</td>\n",
       "      <td>2024-03-04</td>\n",
       "      <td>501</td>\n",
       "      <td>90.25</td>\n",
       "      <td>Eletrônicos</td>\n",
       "      <td>1</td>\n",
       "    </tr>\n",
       "    <tr>\n",
       "      <th>4</th>\n",
       "      <td>1005</td>\n",
       "      <td>2024-03-05</td>\n",
       "      <td>504</td>\n",
       "      <td>450.60</td>\n",
       "      <td>Esportes</td>\n",
       "      <td>4</td>\n",
       "    </tr>\n",
       "  </tbody>\n",
       "</table>\n",
       "</div>"
      ],
      "text/plain": [
       "   PEDIDO        DATA  CLIENTE   TOTAL    CATEGORIA  QTD\n",
       "0    1001  2024-03-01      501  150.75  Eletrônicos    1\n",
       "1    1002  2024-03-02      502  200.50       Roupas    3\n",
       "2    1003  2024-03-03      503  320.00         Casa    2\n",
       "3    1004  2024-03-04      501   90.25  Eletrônicos    1\n",
       "4    1005  2024-03-05      504  450.60     Esportes    4"
      ]
     },
     "execution_count": 43,
     "metadata": {},
     "output_type": "execute_result"
    }
   ],
   "source": [
    "colunas_maiusculas = []\n",
    "\n",
    "for coluna in list(dados.columns):\n",
    "    colunas_maiusculas.append(coluna.upper())\n",
    "\n",
    "dados.columns = colunas_maiusculas\n",
    "\n",
    "dados"
   ]
  },
  {
   "cell_type": "code",
   "execution_count": null,
   "id": "3b27eb7b-0394-480e-add3-88afe4bbfba3",
   "metadata": {},
   "outputs": [],
   "source": []
  }
 ],
 "metadata": {
  "kernelspec": {
   "display_name": "Python 3 (ipykernel)",
   "language": "python",
   "name": "python3"
  },
  "language_info": {
   "codemirror_mode": {
    "name": "ipython",
    "version": 3
   },
   "file_extension": ".py",
   "mimetype": "text/x-python",
   "name": "python",
   "nbconvert_exporter": "python",
   "pygments_lexer": "ipython3",
   "version": "3.12.10"
  }
 },
 "nbformat": 4,
 "nbformat_minor": 5
}
