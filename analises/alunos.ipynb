{
 "cells": [
  {
   "cell_type": "markdown",
   "id": "1e3fa68a",
   "metadata": {},
   "source": [
    "# Análise de cursos e uma faculdade"
   ]
  },
  {
   "cell_type": "code",
   "execution_count": 1,
   "id": "f61aca0f",
   "metadata": {},
   "outputs": [
    {
     "name": "stdout",
     "output_type": "stream",
     "text": [
      "Note: you may need to restart the kernel to use updated packages.\n"
     ]
    }
   ],
   "source": [
    "pip install pandas -q"
   ]
  },
  {
   "cell_type": "code",
   "execution_count": 4,
   "id": "01b9abbb",
   "metadata": {},
   "outputs": [
    {
     "data": {
      "application/vnd.microsoft.datawrangler.viewer.v0+json": {
       "columns": [
        {
         "name": "index",
         "rawType": "int64",
         "type": "integer"
        },
        {
         "name": "nome",
         "rawType": "object",
         "type": "string"
        },
        {
         "name": "idade",
         "rawType": "int64",
         "type": "integer"
        },
        {
         "name": "genero",
         "rawType": "object",
         "type": "string"
        },
        {
         "name": "curso",
         "rawType": "object",
         "type": "string"
        },
        {
         "name": "semestre",
         "rawType": "int64",
         "type": "integer"
        },
        {
         "name": "nota_final",
         "rawType": "float64",
         "type": "float"
        },
        {
         "name": "faltas",
         "rawType": "int64",
         "type": "integer"
        }
       ],
       "conversionMethod": "pd.DataFrame",
       "ref": "dc8c6ce4-0887-4c37-9c6c-36ecd312b185",
       "rows": [
        [
         "0",
         "Fernanda",
         "22",
         "F",
         "Engenharia",
         "7",
         "8.85",
         "21"
        ],
        [
         "1",
         "Eduardo",
         "28",
         "M",
         "ADS",
         "1",
         "6.49",
         "9"
        ],
        [
         "2",
         "Igor",
         "24",
         "M",
         "Arquitetura",
         "3",
         "5.85",
         "8"
        ],
        [
         "3",
         "Igor",
         "29",
         "F",
         "Arquitetura",
         "10",
         "5.65",
         "7"
        ],
        [
         "4",
         "Bruno",
         "28",
         "M",
         "Arquitetura",
         "7",
         "8.64",
         "5"
        ]
       ],
       "shape": {
        "columns": 7,
        "rows": 5
       }
      },
      "text/html": [
       "<div>\n",
       "<style scoped>\n",
       "    .dataframe tbody tr th:only-of-type {\n",
       "        vertical-align: middle;\n",
       "    }\n",
       "\n",
       "    .dataframe tbody tr th {\n",
       "        vertical-align: top;\n",
       "    }\n",
       "\n",
       "    .dataframe thead th {\n",
       "        text-align: right;\n",
       "    }\n",
       "</style>\n",
       "<table border=\"1\" class=\"dataframe\">\n",
       "  <thead>\n",
       "    <tr style=\"text-align: right;\">\n",
       "      <th></th>\n",
       "      <th>nome</th>\n",
       "      <th>idade</th>\n",
       "      <th>genero</th>\n",
       "      <th>curso</th>\n",
       "      <th>semestre</th>\n",
       "      <th>nota_final</th>\n",
       "      <th>faltas</th>\n",
       "    </tr>\n",
       "  </thead>\n",
       "  <tbody>\n",
       "    <tr>\n",
       "      <th>0</th>\n",
       "      <td>Fernanda</td>\n",
       "      <td>22</td>\n",
       "      <td>F</td>\n",
       "      <td>Engenharia</td>\n",
       "      <td>7</td>\n",
       "      <td>8.85</td>\n",
       "      <td>21</td>\n",
       "    </tr>\n",
       "    <tr>\n",
       "      <th>1</th>\n",
       "      <td>Eduardo</td>\n",
       "      <td>28</td>\n",
       "      <td>M</td>\n",
       "      <td>ADS</td>\n",
       "      <td>1</td>\n",
       "      <td>6.49</td>\n",
       "      <td>9</td>\n",
       "    </tr>\n",
       "    <tr>\n",
       "      <th>2</th>\n",
       "      <td>Igor</td>\n",
       "      <td>24</td>\n",
       "      <td>M</td>\n",
       "      <td>Arquitetura</td>\n",
       "      <td>3</td>\n",
       "      <td>5.85</td>\n",
       "      <td>8</td>\n",
       "    </tr>\n",
       "    <tr>\n",
       "      <th>3</th>\n",
       "      <td>Igor</td>\n",
       "      <td>29</td>\n",
       "      <td>F</td>\n",
       "      <td>Arquitetura</td>\n",
       "      <td>10</td>\n",
       "      <td>5.65</td>\n",
       "      <td>7</td>\n",
       "    </tr>\n",
       "    <tr>\n",
       "      <th>4</th>\n",
       "      <td>Bruno</td>\n",
       "      <td>28</td>\n",
       "      <td>M</td>\n",
       "      <td>Arquitetura</td>\n",
       "      <td>7</td>\n",
       "      <td>8.64</td>\n",
       "      <td>5</td>\n",
       "    </tr>\n",
       "  </tbody>\n",
       "</table>\n",
       "</div>"
      ],
      "text/plain": [
       "       nome  idade genero        curso  semestre  nota_final  faltas\n",
       "0  Fernanda     22      F   Engenharia         7        8.85      21\n",
       "1   Eduardo     28      M          ADS         1        6.49       9\n",
       "2      Igor     24      M  Arquitetura         3        5.85       8\n",
       "3      Igor     29      F  Arquitetura        10        5.65       7\n",
       "4     Bruno     28      M  Arquitetura         7        8.64       5"
      ]
     },
     "execution_count": 4,
     "metadata": {},
     "output_type": "execute_result"
    }
   ],
   "source": [
    "import pandas as pd\n",
    "\n",
    "df = pd.read_csv('dados_alunos.csv')\n",
    "\n",
    "df.head()"
   ]
  },
  {
   "cell_type": "code",
   "execution_count": 5,
   "id": "894de1a3",
   "metadata": {},
   "outputs": [
    {
     "data": {
      "application/vnd.microsoft.datawrangler.viewer.v0+json": {
       "columns": [
        {
         "name": "index",
         "rawType": "int64",
         "type": "integer"
        },
        {
         "name": "nome",
         "rawType": "object",
         "type": "string"
        },
        {
         "name": "idade",
         "rawType": "int64",
         "type": "integer"
        },
        {
         "name": "genero",
         "rawType": "object",
         "type": "string"
        },
        {
         "name": "curso",
         "rawType": "object",
         "type": "string"
        },
        {
         "name": "semestre",
         "rawType": "int64",
         "type": "integer"
        },
        {
         "name": "nota_final",
         "rawType": "float64",
         "type": "float"
        },
        {
         "name": "faltas",
         "rawType": "int64",
         "type": "integer"
        }
       ],
       "conversionMethod": "pd.DataFrame",
       "ref": "cda3b5f9-0e01-4f1e-9b8f-f2076af51a20",
       "rows": [
        [
         "95",
         "Helena",
         "26",
         "M",
         "ADS",
         "2",
         "6.65",
         "21"
        ],
        [
         "96",
         "Carlos",
         "20",
         "F",
         "Engenharia",
         "8",
         "9.33",
         "24"
        ],
        [
         "97",
         "Diana",
         "27",
         "M",
         "Direito",
         "1",
         "9.31",
         "17"
        ],
        [
         "98",
         "Igor",
         "27",
         "F",
         "Medicina",
         "9",
         "8.88",
         "17"
        ],
        [
         "99",
         "Carlos",
         "22",
         "F",
         "Medicina",
         "8",
         "9.75",
         "21"
        ]
       ],
       "shape": {
        "columns": 7,
        "rows": 5
       }
      },
      "text/html": [
       "<div>\n",
       "<style scoped>\n",
       "    .dataframe tbody tr th:only-of-type {\n",
       "        vertical-align: middle;\n",
       "    }\n",
       "\n",
       "    .dataframe tbody tr th {\n",
       "        vertical-align: top;\n",
       "    }\n",
       "\n",
       "    .dataframe thead th {\n",
       "        text-align: right;\n",
       "    }\n",
       "</style>\n",
       "<table border=\"1\" class=\"dataframe\">\n",
       "  <thead>\n",
       "    <tr style=\"text-align: right;\">\n",
       "      <th></th>\n",
       "      <th>nome</th>\n",
       "      <th>idade</th>\n",
       "      <th>genero</th>\n",
       "      <th>curso</th>\n",
       "      <th>semestre</th>\n",
       "      <th>nota_final</th>\n",
       "      <th>faltas</th>\n",
       "    </tr>\n",
       "  </thead>\n",
       "  <tbody>\n",
       "    <tr>\n",
       "      <th>95</th>\n",
       "      <td>Helena</td>\n",
       "      <td>26</td>\n",
       "      <td>M</td>\n",
       "      <td>ADS</td>\n",
       "      <td>2</td>\n",
       "      <td>6.65</td>\n",
       "      <td>21</td>\n",
       "    </tr>\n",
       "    <tr>\n",
       "      <th>96</th>\n",
       "      <td>Carlos</td>\n",
       "      <td>20</td>\n",
       "      <td>F</td>\n",
       "      <td>Engenharia</td>\n",
       "      <td>8</td>\n",
       "      <td>9.33</td>\n",
       "      <td>24</td>\n",
       "    </tr>\n",
       "    <tr>\n",
       "      <th>97</th>\n",
       "      <td>Diana</td>\n",
       "      <td>27</td>\n",
       "      <td>M</td>\n",
       "      <td>Direito</td>\n",
       "      <td>1</td>\n",
       "      <td>9.31</td>\n",
       "      <td>17</td>\n",
       "    </tr>\n",
       "    <tr>\n",
       "      <th>98</th>\n",
       "      <td>Igor</td>\n",
       "      <td>27</td>\n",
       "      <td>F</td>\n",
       "      <td>Medicina</td>\n",
       "      <td>9</td>\n",
       "      <td>8.88</td>\n",
       "      <td>17</td>\n",
       "    </tr>\n",
       "    <tr>\n",
       "      <th>99</th>\n",
       "      <td>Carlos</td>\n",
       "      <td>22</td>\n",
       "      <td>F</td>\n",
       "      <td>Medicina</td>\n",
       "      <td>8</td>\n",
       "      <td>9.75</td>\n",
       "      <td>21</td>\n",
       "    </tr>\n",
       "  </tbody>\n",
       "</table>\n",
       "</div>"
      ],
      "text/plain": [
       "      nome  idade genero       curso  semestre  nota_final  faltas\n",
       "95  Helena     26      M         ADS         2        6.65      21\n",
       "96  Carlos     20      F  Engenharia         8        9.33      24\n",
       "97   Diana     27      M     Direito         1        9.31      17\n",
       "98    Igor     27      F    Medicina         9        8.88      17\n",
       "99  Carlos     22      F    Medicina         8        9.75      21"
      ]
     },
     "execution_count": 5,
     "metadata": {},
     "output_type": "execute_result"
    }
   ],
   "source": [
    "df.tail()"
   ]
  },
  {
   "cell_type": "code",
   "execution_count": 6,
   "id": "cb249190",
   "metadata": {},
   "outputs": [
    {
     "name": "stdout",
     "output_type": "stream",
     "text": [
      "<class 'pandas.core.frame.DataFrame'>\n",
      "RangeIndex: 100 entries, 0 to 99\n",
      "Data columns (total 7 columns):\n",
      " #   Column      Non-Null Count  Dtype  \n",
      "---  ------      --------------  -----  \n",
      " 0   nome        100 non-null    object \n",
      " 1   idade       100 non-null    int64  \n",
      " 2   genero      100 non-null    object \n",
      " 3   curso       100 non-null    object \n",
      " 4   semestre    100 non-null    int64  \n",
      " 5   nota_final  100 non-null    float64\n",
      " 6   faltas      100 non-null    int64  \n",
      "dtypes: float64(1), int64(3), object(3)\n",
      "memory usage: 5.6+ KB\n"
     ]
    }
   ],
   "source": [
    "df.info()"
   ]
  },
  {
   "cell_type": "code",
   "execution_count": 7,
   "id": "571377b1",
   "metadata": {},
   "outputs": [
    {
     "data": {
      "application/vnd.microsoft.datawrangler.viewer.v0+json": {
       "columns": [
        {
         "name": "index",
         "rawType": "object",
         "type": "string"
        },
        {
         "name": "idade",
         "rawType": "float64",
         "type": "float"
        },
        {
         "name": "semestre",
         "rawType": "float64",
         "type": "float"
        },
        {
         "name": "nota_final",
         "rawType": "float64",
         "type": "float"
        },
        {
         "name": "faltas",
         "rawType": "float64",
         "type": "float"
        }
       ],
       "conversionMethod": "pd.DataFrame",
       "ref": "ed019d3b-eede-4eba-b914-7ee3ce9e7b91",
       "rows": [
        [
         "count",
         "100.0",
         "100.0",
         "100.0",
         "100.0"
        ],
        [
         "mean",
         "26.13",
         "5.88",
         "7.546799999999999",
         "15.0"
        ],
        [
         "std",
         "4.8713862544869135",
         "2.9857574373594846",
         "1.5477757778780037",
         "9.222283071479916"
        ],
        [
         "min",
         "18.0",
         "1.0",
         "5.0",
         "0.0"
        ],
        [
         "25%",
         "22.0",
         "3.0",
         "6.0600000000000005",
         "7.0"
        ],
        [
         "50%",
         "26.0",
         "6.0",
         "7.98",
         "14.0"
        ],
        [
         "75%",
         "30.0",
         "8.0",
         "8.872499999999999",
         "24.0"
        ],
        [
         "max",
         "35.0",
         "10.0",
         "9.98",
         "30.0"
        ]
       ],
       "shape": {
        "columns": 4,
        "rows": 8
       }
      },
      "text/html": [
       "<div>\n",
       "<style scoped>\n",
       "    .dataframe tbody tr th:only-of-type {\n",
       "        vertical-align: middle;\n",
       "    }\n",
       "\n",
       "    .dataframe tbody tr th {\n",
       "        vertical-align: top;\n",
       "    }\n",
       "\n",
       "    .dataframe thead th {\n",
       "        text-align: right;\n",
       "    }\n",
       "</style>\n",
       "<table border=\"1\" class=\"dataframe\">\n",
       "  <thead>\n",
       "    <tr style=\"text-align: right;\">\n",
       "      <th></th>\n",
       "      <th>idade</th>\n",
       "      <th>semestre</th>\n",
       "      <th>nota_final</th>\n",
       "      <th>faltas</th>\n",
       "    </tr>\n",
       "  </thead>\n",
       "  <tbody>\n",
       "    <tr>\n",
       "      <th>count</th>\n",
       "      <td>100.000000</td>\n",
       "      <td>100.000000</td>\n",
       "      <td>100.000000</td>\n",
       "      <td>100.000000</td>\n",
       "    </tr>\n",
       "    <tr>\n",
       "      <th>mean</th>\n",
       "      <td>26.130000</td>\n",
       "      <td>5.880000</td>\n",
       "      <td>7.546800</td>\n",
       "      <td>15.000000</td>\n",
       "    </tr>\n",
       "    <tr>\n",
       "      <th>std</th>\n",
       "      <td>4.871386</td>\n",
       "      <td>2.985757</td>\n",
       "      <td>1.547776</td>\n",
       "      <td>9.222283</td>\n",
       "    </tr>\n",
       "    <tr>\n",
       "      <th>min</th>\n",
       "      <td>18.000000</td>\n",
       "      <td>1.000000</td>\n",
       "      <td>5.000000</td>\n",
       "      <td>0.000000</td>\n",
       "    </tr>\n",
       "    <tr>\n",
       "      <th>25%</th>\n",
       "      <td>22.000000</td>\n",
       "      <td>3.000000</td>\n",
       "      <td>6.060000</td>\n",
       "      <td>7.000000</td>\n",
       "    </tr>\n",
       "    <tr>\n",
       "      <th>50%</th>\n",
       "      <td>26.000000</td>\n",
       "      <td>6.000000</td>\n",
       "      <td>7.980000</td>\n",
       "      <td>14.000000</td>\n",
       "    </tr>\n",
       "    <tr>\n",
       "      <th>75%</th>\n",
       "      <td>30.000000</td>\n",
       "      <td>8.000000</td>\n",
       "      <td>8.872500</td>\n",
       "      <td>24.000000</td>\n",
       "    </tr>\n",
       "    <tr>\n",
       "      <th>max</th>\n",
       "      <td>35.000000</td>\n",
       "      <td>10.000000</td>\n",
       "      <td>9.980000</td>\n",
       "      <td>30.000000</td>\n",
       "    </tr>\n",
       "  </tbody>\n",
       "</table>\n",
       "</div>"
      ],
      "text/plain": [
       "            idade    semestre  nota_final      faltas\n",
       "count  100.000000  100.000000  100.000000  100.000000\n",
       "mean    26.130000    5.880000    7.546800   15.000000\n",
       "std      4.871386    2.985757    1.547776    9.222283\n",
       "min     18.000000    1.000000    5.000000    0.000000\n",
       "25%     22.000000    3.000000    6.060000    7.000000\n",
       "50%     26.000000    6.000000    7.980000   14.000000\n",
       "75%     30.000000    8.000000    8.872500   24.000000\n",
       "max     35.000000   10.000000    9.980000   30.000000"
      ]
     },
     "execution_count": 7,
     "metadata": {},
     "output_type": "execute_result"
    }
   ],
   "source": [
    "df.describe()"
   ]
  },
  {
   "cell_type": "code",
   "execution_count": 8,
   "id": "097ffa1e",
   "metadata": {},
   "outputs": [
    {
     "data": {
      "application/vnd.microsoft.datawrangler.viewer.v0+json": {
       "columns": [
        {
         "name": "index",
         "rawType": "object",
         "type": "string"
        },
        {
         "name": "nome",
         "rawType": "object",
         "type": "unknown"
        },
        {
         "name": "genero",
         "rawType": "object",
         "type": "unknown"
        },
        {
         "name": "curso",
         "rawType": "object",
         "type": "unknown"
        }
       ],
       "conversionMethod": "pd.DataFrame",
       "ref": "890bc185-5048-480b-94c8-00bb52e1928d",
       "rows": [
        [
         "count",
         "100",
         "100",
         "100"
        ],
        [
         "unique",
         "10",
         "2",
         "5"
        ],
        [
         "top",
         "Diana",
         "F",
         "ADS"
        ],
        [
         "freq",
         "16",
         "64",
         "26"
        ]
       ],
       "shape": {
        "columns": 3,
        "rows": 4
       }
      },
      "text/html": [
       "<div>\n",
       "<style scoped>\n",
       "    .dataframe tbody tr th:only-of-type {\n",
       "        vertical-align: middle;\n",
       "    }\n",
       "\n",
       "    .dataframe tbody tr th {\n",
       "        vertical-align: top;\n",
       "    }\n",
       "\n",
       "    .dataframe thead th {\n",
       "        text-align: right;\n",
       "    }\n",
       "</style>\n",
       "<table border=\"1\" class=\"dataframe\">\n",
       "  <thead>\n",
       "    <tr style=\"text-align: right;\">\n",
       "      <th></th>\n",
       "      <th>nome</th>\n",
       "      <th>genero</th>\n",
       "      <th>curso</th>\n",
       "    </tr>\n",
       "  </thead>\n",
       "  <tbody>\n",
       "    <tr>\n",
       "      <th>count</th>\n",
       "      <td>100</td>\n",
       "      <td>100</td>\n",
       "      <td>100</td>\n",
       "    </tr>\n",
       "    <tr>\n",
       "      <th>unique</th>\n",
       "      <td>10</td>\n",
       "      <td>2</td>\n",
       "      <td>5</td>\n",
       "    </tr>\n",
       "    <tr>\n",
       "      <th>top</th>\n",
       "      <td>Diana</td>\n",
       "      <td>F</td>\n",
       "      <td>ADS</td>\n",
       "    </tr>\n",
       "    <tr>\n",
       "      <th>freq</th>\n",
       "      <td>16</td>\n",
       "      <td>64</td>\n",
       "      <td>26</td>\n",
       "    </tr>\n",
       "  </tbody>\n",
       "</table>\n",
       "</div>"
      ],
      "text/plain": [
       "         nome genero curso\n",
       "count     100    100   100\n",
       "unique     10      2     5\n",
       "top     Diana      F   ADS\n",
       "freq       16     64    26"
      ]
     },
     "execution_count": 8,
     "metadata": {},
     "output_type": "execute_result"
    }
   ],
   "source": [
    "df.describe(include='object')"
   ]
  },
  {
   "cell_type": "code",
   "execution_count": 9,
   "id": "0cafcbbb",
   "metadata": {},
   "outputs": [
    {
     "data": {
      "text/plain": [
       "nome\n",
       "Diana       16\n",
       "Helena      16\n",
       "Igor        14\n",
       "Carlos      10\n",
       "Juliana      9\n",
       "Bruno        9\n",
       "Eduardo      8\n",
       "Ana          7\n",
       "Gustavo      6\n",
       "Fernanda     5\n",
       "Name: count, dtype: int64"
      ]
     },
     "execution_count": 9,
     "metadata": {},
     "output_type": "execute_result"
    }
   ],
   "source": [
    "df['nome'].value_counts()"
   ]
  },
  {
   "cell_type": "code",
   "execution_count": 14,
   "id": "df44fcda",
   "metadata": {},
   "outputs": [
    {
     "name": "stdout",
     "output_type": "stream",
     "text": [
      "Note: you may need to restart the kernel to use updated packages.\n"
     ]
    }
   ],
   "source": [
    "pip install matplotlib -q"
   ]
  },
  {
   "cell_type": "code",
   "execution_count": 15,
   "id": "6915b190",
   "metadata": {},
   "outputs": [],
   "source": [
    "import matplotlib.pyplot as plt"
   ]
  },
  {
   "cell_type": "code",
   "execution_count": 16,
   "id": "24b226f7",
   "metadata": {},
   "outputs": [
    {
     "data": {
      "text/plain": [
       "<function matplotlib.pyplot.show(close=None, block=None)>"
      ]
     },
     "execution_count": 16,
     "metadata": {},
     "output_type": "execute_result"
    },
    {
     "data": {
      "image/png": "[encoded data removed]",
      "text/plain": [
       "<Figure size 640x480 with 1 Axes>"
      ]
     },
     "metadata": {},
     "output_type": "display_data"
    }
   ],
   "source": [
    "plt.hist(df['nome'])\n",
    "plt.show"
   ]
  },
  {
   "cell_type": "code",
   "execution_count": 18,
   "id": "f242e716",
   "metadata": {},
   "outputs": [
    {
     "data": {
      "image/png": "[encoded data removed]",
      "text/plain": [
       "<Figure size 640x480 with 1 Axes>"
      ]
     },
     "metadata": {},
     "output_type": "display_data"
    }
   ],
   "source": [
    "plt.bar(\n",
    "    df['nome'].unique(),\n",
    "    df['nome'].value_counts()\n",
    ")\n",
    "\n",
    "plt.show()"
   ]
  },
  {
   "cell_type": "code",
   "execution_count": 20,
   "id": "a1f221f0",
   "metadata": {},
   "outputs": [
    {
     "data": {
      "image/png": "[encoded data removed]",
      "text/plain": [
       "<Figure size 640x480 with 1 Axes>"
      ]
     },
     "metadata": {},
     "output_type": "display_data"
    }
   ],
   "source": [
    "plt.hist(df['nome'])\n",
    "\n",
    "plt.xticks(rotation=45)\n",
    "\n",
    "plt.show()"
   ]
  },
  {
   "cell_type": "code",
   "execution_count": null,
   "id": "2dd6d68e",
   "metadata": {},
   "outputs": [],
   "source": [
    "contagem_genero = df['genero'].value_counts()\n",
    "\n",
    "plt.bar(contagem_genero.index, )"
   ]
  }
 ],
 "metadata": {
  "kernelspec": {
   "display_name": ".venv",
   "language": "python",
   "name": "python3"
  },
  "language_info": {
   "codemirror_mode": {
    "name": "ipython",
    "version": 3
   },
   "file_extension": ".py",
   "mimetype": "text/x-python",
   "name": "python",
   "nbconvert_exporter": "python",
   "pygments_lexer": "ipython3",
   "version": "3.12.10"
  }
 },
 "nbformat": 4,
 "nbformat_minor": 5
}
