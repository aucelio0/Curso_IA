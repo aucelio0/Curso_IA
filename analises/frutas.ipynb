{
 "cells": [
  {
   "cell_type": "markdown",
   "id": "682591ad",
   "metadata": {},
   "source": [
    "# Métricas de tendência central\n",
    "\n",
    "- media\n",
    "- mediana\n",
    "- moda\n",
    "- variacia\n",
    "- desvio padrâo"
   ]
  },
  {
   "cell_type": "code",
   "execution_count": 31,
   "id": "d31ff967",
   "metadata": {},
   "outputs": [
    {
     "name": "stdout",
     "output_type": "stream",
     "text": [
      "<class 'dict'>\n"
     ]
    }
   ],
   "source": [
    "frutas = {\n",
    "    'fruta':['banana', 'uva', 'maça', 'kiwi', 'morango', 'abacaxi', 'melão', 'pera'],\n",
    "    'lote':[5,3,4,7,7,10,10,10],\n",
    "    'valor(u)':[50.85, 10.50, 8.00, 9.99, 10.85, 100.50, 8.80, 99.99]\n",
    "}\n",
    "print(type(frutas))"
   ]
  },
  {
   "cell_type": "code",
   "execution_count": 32,
   "id": "3c81c6dc",
   "metadata": {},
   "outputs": [],
   "source": [
    "import pandas as pd"
   ]
  },
  {
   "cell_type": "code",
   "execution_count": 33,
   "id": "9d65dfd7",
   "metadata": {},
   "outputs": [
    {
     "name": "stdout",
     "output_type": "stream",
     "text": [
      "<class 'pandas.core.frame.DataFrame'>\n",
      "     fruta  lote  valor(u)\n",
      "0   banana     5     50.85\n",
      "1      uva     3     10.50\n",
      "2     maça     4      8.00\n",
      "3     kiwi     7      9.99\n",
      "4  morango     7     10.85\n",
      "5  abacaxi    10    100.50\n",
      "6    melão    10      8.80\n",
      "7     pera    10     99.99\n"
     ]
    },
    {
     "data": {
      "application/vnd.microsoft.datawrangler.viewer.v0+json": {
       "columns": [
        {
         "name": "index",
         "rawType": "int64",
         "type": "integer"
        },
        {
         "name": "fruta",
         "rawType": "object",
         "type": "string"
        },
        {
         "name": "lote",
         "rawType": "int64",
         "type": "integer"
        },
        {
         "name": "valor(u)",
         "rawType": "float64",
         "type": "float"
        }
       ],
       "conversionMethod": "pd.DataFrame",
       "ref": "6428fa9d-cfbe-47cc-8247-3f48b36f8103",
       "rows": [
        [
         "0",
         "banana",
         "5",
         "50.85"
        ],
        [
         "1",
         "uva",
         "3",
         "10.5"
        ],
        [
         "2",
         "maça",
         "4",
         "8.0"
        ],
        [
         "3",
         "kiwi",
         "7",
         "9.99"
        ],
        [
         "4",
         "morango",
         "7",
         "10.85"
        ],
        [
         "5",
         "abacaxi",
         "10",
         "100.5"
        ],
        [
         "6",
         "melão",
         "10",
         "8.8"
        ],
        [
         "7",
         "pera",
         "10",
         "99.99"
        ]
       ],
       "shape": {
        "columns": 3,
        "rows": 8
       }
      },
      "text/html": [
       "<div>\n",
       "<style scoped>\n",
       "    .dataframe tbody tr th:only-of-type {\n",
       "        vertical-align: middle;\n",
       "    }\n",
       "\n",
       "    .dataframe tbody tr th {\n",
       "        vertical-align: top;\n",
       "    }\n",
       "\n",
       "    .dataframe thead th {\n",
       "        text-align: right;\n",
       "    }\n",
       "</style>\n",
       "<table border=\"1\" class=\"dataframe\">\n",
       "  <thead>\n",
       "    <tr style=\"text-align: right;\">\n",
       "      <th></th>\n",
       "      <th>fruta</th>\n",
       "      <th>lote</th>\n",
       "      <th>valor(u)</th>\n",
       "    </tr>\n",
       "  </thead>\n",
       "  <tbody>\n",
       "    <tr>\n",
       "      <th>0</th>\n",
       "      <td>banana</td>\n",
       "      <td>5</td>\n",
       "      <td>50.85</td>\n",
       "    </tr>\n",
       "    <tr>\n",
       "      <th>1</th>\n",
       "      <td>uva</td>\n",
       "      <td>3</td>\n",
       "      <td>10.50</td>\n",
       "    </tr>\n",
       "    <tr>\n",
       "      <th>2</th>\n",
       "      <td>maça</td>\n",
       "      <td>4</td>\n",
       "      <td>8.00</td>\n",
       "    </tr>\n",
       "    <tr>\n",
       "      <th>3</th>\n",
       "      <td>kiwi</td>\n",
       "      <td>7</td>\n",
       "      <td>9.99</td>\n",
       "    </tr>\n",
       "    <tr>\n",
       "      <th>4</th>\n",
       "      <td>morango</td>\n",
       "      <td>7</td>\n",
       "      <td>10.85</td>\n",
       "    </tr>\n",
       "    <tr>\n",
       "      <th>5</th>\n",
       "      <td>abacaxi</td>\n",
       "      <td>10</td>\n",
       "      <td>100.50</td>\n",
       "    </tr>\n",
       "    <tr>\n",
       "      <th>6</th>\n",
       "      <td>melão</td>\n",
       "      <td>10</td>\n",
       "      <td>8.80</td>\n",
       "    </tr>\n",
       "    <tr>\n",
       "      <th>7</th>\n",
       "      <td>pera</td>\n",
       "      <td>10</td>\n",
       "      <td>99.99</td>\n",
       "    </tr>\n",
       "  </tbody>\n",
       "</table>\n",
       "</div>"
      ],
      "text/plain": [
       "     fruta  lote  valor(u)\n",
       "0   banana     5     50.85\n",
       "1      uva     3     10.50\n",
       "2     maça     4      8.00\n",
       "3     kiwi     7      9.99\n",
       "4  morango     7     10.85\n",
       "5  abacaxi    10    100.50\n",
       "6    melão    10      8.80\n",
       "7     pera    10     99.99"
      ]
     },
     "metadata": {},
     "output_type": "display_data"
    }
   ],
   "source": [
    "# converter dicionário em dataframe\n",
    "df = pd.DataFrame(frutas)\n",
    "\n",
    "print(type(df))\n",
    "print(df)\n",
    "display(df)"
   ]
  },
  {
   "cell_type": "code",
   "execution_count": 38,
   "id": "11a6826d",
   "metadata": {},
   "outputs": [
    {
     "data": {
      "application/vnd.microsoft.datawrangler.viewer.v0+json": {
       "columns": [
        {
         "name": "index",
         "rawType": "int64",
         "type": "integer"
        },
        {
         "name": "fruta",
         "rawType": "object",
         "type": "string"
        },
        {
         "name": "lote",
         "rawType": "int64",
         "type": "integer"
        }
       ],
       "conversionMethod": "pd.DataFrame",
       "ref": "397a376c-be83-4702-8d92-dbc72fc10d83",
       "rows": [
        [
         "0",
         "banana",
         "5"
        ],
        [
         "1",
         "uva",
         "3"
        ],
        [
         "2",
         "maça",
         "4"
        ],
        [
         "3",
         "kiwi",
         "7"
        ],
        [
         "4",
         "morango",
         "7"
        ],
        [
         "5",
         "abacaxi",
         "10"
        ],
        [
         "6",
         "melão",
         "10"
        ],
        [
         "7",
         "pera",
         "10"
        ]
       ],
       "shape": {
        "columns": 2,
        "rows": 8
       }
      },
      "text/html": [
       "<div>\n",
       "<style scoped>\n",
       "    .dataframe tbody tr th:only-of-type {\n",
       "        vertical-align: middle;\n",
       "    }\n",
       "\n",
       "    .dataframe tbody tr th {\n",
       "        vertical-align: top;\n",
       "    }\n",
       "\n",
       "    .dataframe thead th {\n",
       "        text-align: right;\n",
       "    }\n",
       "</style>\n",
       "<table border=\"1\" class=\"dataframe\">\n",
       "  <thead>\n",
       "    <tr style=\"text-align: right;\">\n",
       "      <th></th>\n",
       "      <th>fruta</th>\n",
       "      <th>lote</th>\n",
       "    </tr>\n",
       "  </thead>\n",
       "  <tbody>\n",
       "    <tr>\n",
       "      <th>0</th>\n",
       "      <td>banana</td>\n",
       "      <td>5</td>\n",
       "    </tr>\n",
       "    <tr>\n",
       "      <th>1</th>\n",
       "      <td>uva</td>\n",
       "      <td>3</td>\n",
       "    </tr>\n",
       "    <tr>\n",
       "      <th>2</th>\n",
       "      <td>maça</td>\n",
       "      <td>4</td>\n",
       "    </tr>\n",
       "    <tr>\n",
       "      <th>3</th>\n",
       "      <td>kiwi</td>\n",
       "      <td>7</td>\n",
       "    </tr>\n",
       "    <tr>\n",
       "      <th>4</th>\n",
       "      <td>morango</td>\n",
       "      <td>7</td>\n",
       "    </tr>\n",
       "    <tr>\n",
       "      <th>5</th>\n",
       "      <td>abacaxi</td>\n",
       "      <td>10</td>\n",
       "    </tr>\n",
       "    <tr>\n",
       "      <th>6</th>\n",
       "      <td>melão</td>\n",
       "      <td>10</td>\n",
       "    </tr>\n",
       "    <tr>\n",
       "      <th>7</th>\n",
       "      <td>pera</td>\n",
       "      <td>10</td>\n",
       "    </tr>\n",
       "  </tbody>\n",
       "</table>\n",
       "</div>"
      ],
      "text/plain": [
       "     fruta  lote\n",
       "0   banana     5\n",
       "1      uva     3\n",
       "2     maça     4\n",
       "3     kiwi     7\n",
       "4  morango     7\n",
       "5  abacaxi    10\n",
       "6    melão    10\n",
       "7     pera    10"
      ]
     },
     "execution_count": 38,
     "metadata": {},
     "output_type": "execute_result"
    }
   ],
   "source": [
    "colunas = ['fruta', 'lote']\n",
    "\n",
    "df_sem_valor = df[colunas]\n",
    "\n",
    "df_sem_valor"
   ]
  },
  {
   "cell_type": "code",
   "execution_count": null,
   "id": "938ed27b",
   "metadata": {},
   "outputs": [
    {
     "data": {
      "text/plain": [
       "np.float64(7.0)"
      ]
     },
     "execution_count": 39,
     "metadata": {},
     "output_type": "execute_result"
    }
   ],
   "source": [
    "# tirar a média\n",
    "df['lote'].mean()"
   ]
  },
  {
   "cell_type": "code",
   "execution_count": 40,
   "id": "7ae5286a",
   "metadata": {},
   "outputs": [
    {
     "data": {
      "text/plain": [
       "np.float64(7.0)"
      ]
     },
     "execution_count": 40,
     "metadata": {},
     "output_type": "execute_result"
    }
   ],
   "source": [
    "# tirar mediana\n",
    "df['lote'].median()"
   ]
  },
  {
   "cell_type": "code",
   "execution_count": 41,
   "id": "20ce3811",
   "metadata": {},
   "outputs": [
    {
     "data": {
      "text/plain": [
       "0    10\n",
       "Name: lote, dtype: int64"
      ]
     },
     "execution_count": 41,
     "metadata": {},
     "output_type": "execute_result"
    }
   ],
   "source": [
    "# tirar moda\n",
    "df['lote'].mode()"
   ]
  },
  {
   "cell_type": "code",
   "execution_count": 42,
   "id": "1bcb131a",
   "metadata": {},
   "outputs": [
    {
     "data": {
      "text/plain": [
       "np.float64(8.0)"
      ]
     },
     "execution_count": 42,
     "metadata": {},
     "output_type": "execute_result"
    }
   ],
   "source": [
    "# tirar variância\n",
    "df['lote'].var()"
   ]
  },
  {
   "cell_type": "code",
   "execution_count": null,
   "id": "2d7d126a",
   "metadata": {},
   "outputs": [
    {
     "data": {
      "text/plain": [
       "np.float64(2.8284271247461903)"
      ]
     },
     "execution_count": 45,
     "metadata": {},
     "output_type": "execute_result"
    }
   ],
   "source": [
    "# tirar desvio padrão\n",
    "df['lote'].std(ddof=1)"
   ]
  },
  {
   "cell_type": "code",
   "execution_count": 46,
   "id": "f9477e9c",
   "metadata": {},
   "outputs": [
    {
     "name": "stdout",
     "output_type": "stream",
     "text": [
      "Média: 7.0.\n",
      "Mediana: 7.0.\n",
      "Moda: 0    10\n",
      "Name: lote, dtype: int64.\n",
      "Variância: 8.0.\n",
      "Desvio padrão: 2.8284271247461903.\n"
     ]
    }
   ],
   "source": [
    "mean = df['lote'].mean()\n",
    "median = df['lote'].median()\n",
    "mode = df['lote'].mode()\n",
    "var = df['lote'].var()\n",
    "std = df['lote'].std(ddof=1)\n",
    "\n",
    "print(f'Média: {mean}.')\n",
    "print(f'Mediana: {median}.')\n",
    "print(f'Moda: {mode}.')\n",
    "print(f'Variância: {var}.')\n",
    "print(f'Desvio padrão: {std}.')"
   ]
  },
  {
   "cell_type": "code",
   "execution_count": 47,
   "id": "3aec04be",
   "metadata": {},
   "outputs": [
    {
     "data": {
      "application/vnd.microsoft.datawrangler.viewer.v0+json": {
       "columns": [
        {
         "name": "index",
         "rawType": "object",
         "type": "string"
        },
        {
         "name": "lote",
         "rawType": "float64",
         "type": "float"
        },
        {
         "name": "valor(u)",
         "rawType": "float64",
         "type": "float"
        }
       ],
       "conversionMethod": "pd.DataFrame",
       "ref": "e71544c2-b217-47f0-b70c-e2459bd6b4e7",
       "rows": [
        [
         "count",
         "8.0",
         "8.0"
        ],
        [
         "mean",
         "7.0",
         "37.435"
        ],
        [
         "std",
         "2.8284271247461903",
         "41.30401467861724"
        ],
        [
         "min",
         "3.0",
         "8.0"
        ],
        [
         "25%",
         "4.75",
         "9.6925"
        ],
        [
         "50%",
         "7.0",
         "10.675"
        ],
        [
         "75%",
         "10.0",
         "63.135"
        ],
        [
         "max",
         "10.0",
         "100.5"
        ]
       ],
       "shape": {
        "columns": 2,
        "rows": 8
       }
      },
      "text/html": [
       "<div>\n",
       "<style scoped>\n",
       "    .dataframe tbody tr th:only-of-type {\n",
       "        vertical-align: middle;\n",
       "    }\n",
       "\n",
       "    .dataframe tbody tr th {\n",
       "        vertical-align: top;\n",
       "    }\n",
       "\n",
       "    .dataframe thead th {\n",
       "        text-align: right;\n",
       "    }\n",
       "</style>\n",
       "<table border=\"1\" class=\"dataframe\">\n",
       "  <thead>\n",
       "    <tr style=\"text-align: right;\">\n",
       "      <th></th>\n",
       "      <th>lote</th>\n",
       "      <th>valor(u)</th>\n",
       "    </tr>\n",
       "  </thead>\n",
       "  <tbody>\n",
       "    <tr>\n",
       "      <th>count</th>\n",
       "      <td>8.000000</td>\n",
       "      <td>8.000000</td>\n",
       "    </tr>\n",
       "    <tr>\n",
       "      <th>mean</th>\n",
       "      <td>7.000000</td>\n",
       "      <td>37.435000</td>\n",
       "    </tr>\n",
       "    <tr>\n",
       "      <th>std</th>\n",
       "      <td>2.828427</td>\n",
       "      <td>41.304015</td>\n",
       "    </tr>\n",
       "    <tr>\n",
       "      <th>min</th>\n",
       "      <td>3.000000</td>\n",
       "      <td>8.000000</td>\n",
       "    </tr>\n",
       "    <tr>\n",
       "      <th>25%</th>\n",
       "      <td>4.750000</td>\n",
       "      <td>9.692500</td>\n",
       "    </tr>\n",
       "    <tr>\n",
       "      <th>50%</th>\n",
       "      <td>7.000000</td>\n",
       "      <td>10.675000</td>\n",
       "    </tr>\n",
       "    <tr>\n",
       "      <th>75%</th>\n",
       "      <td>10.000000</td>\n",
       "      <td>63.135000</td>\n",
       "    </tr>\n",
       "    <tr>\n",
       "      <th>max</th>\n",
       "      <td>10.000000</td>\n",
       "      <td>100.500000</td>\n",
       "    </tr>\n",
       "  </tbody>\n",
       "</table>\n",
       "</div>"
      ],
      "text/plain": [
       "            lote    valor(u)\n",
       "count   8.000000    8.000000\n",
       "mean    7.000000   37.435000\n",
       "std     2.828427   41.304015\n",
       "min     3.000000    8.000000\n",
       "25%     4.750000    9.692500\n",
       "50%     7.000000   10.675000\n",
       "75%    10.000000   63.135000\n",
       "max    10.000000  100.500000"
      ]
     },
     "execution_count": 47,
     "metadata": {},
     "output_type": "execute_result"
    }
   ],
   "source": [
    "df.describe()"
   ]
  }
 ],
 "metadata": {
  "kernelspec": {
   "display_name": ".venv",
   "language": "python",
   "name": "python3"
  },
  "language_info": {
   "codemirror_mode": {
    "name": "ipython",
    "version": 3
   },
   "file_extension": ".py",
   "mimetype": "text/x-python",
   "name": "python",
   "nbconvert_exporter": "python",
   "pygments_lexer": "ipython3",
   "version": "3.12.10"
  }
 },
 "nbformat": 4,
 "nbformat_minor": 5
}
