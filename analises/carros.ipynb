{
 "cells": [
  {
   "cell_type": "markdown",
   "id": "601bc6fa",
   "metadata": {},
   "source": [
    "# Tratando dados string para ML"
   ]
  },
  {
   "cell_type": "markdown",
   "id": "f0ff92c1",
   "metadata": {},
   "source": [
    "Usaremos duas tecnicas para isso\n",
    "\n",
    "- dummys\n",
    "- one hot encoding\n"
   ]
  },
  {
   "cell_type": "code",
   "execution_count": 4,
   "id": "eafd290d",
   "metadata": {},
   "outputs": [],
   "source": [
    "import pandas as pd\n",
    "\n",
    "pd.set_option('display.max_columns', None)\n",
    "pd.set_option('display.max_rows', None)\n",
    "\n",
    "df = pd.read_excel('./dados.xlsx')\n"
   ]
  },
  {
   "cell_type": "code",
   "execution_count": 5,
   "id": "60d87f4b",
   "metadata": {},
   "outputs": [
    {
     "data": {
      "application/vnd.microsoft.datawrangler.viewer.v0+json": {
       "columns": [
        {
         "name": "index",
         "rawType": "int64",
         "type": "integer"
        },
        {
         "name": "MODELO",
         "rawType": "object",
         "type": "string"
        },
        {
         "name": "KM-LITRO",
         "rawType": "float64",
         "type": "float"
        },
        {
         "name": "CILINDROS",
         "rawType": "int64",
         "type": "integer"
        },
        {
         "name": "PESO(KG)",
         "rawType": "int64",
         "type": "integer"
        },
        {
         "name": "CAVALOS",
         "rawType": "int64",
         "type": "integer"
        },
        {
         "name": "TRANSMISSAO",
         "rawType": "object",
         "type": "string"
        },
        {
         "name": "PAIS",
         "rawType": "object",
         "type": "string"
        }
       ],
       "conversionMethod": "pd.DataFrame",
       "ref": "5be6b290-51d3-4365-8396-45756d1cce37",
       "rows": [
        [
         "0",
         "LABORGUINI",
         "3.0",
         "12",
         "1200",
         "700",
         "AUTOMATICO",
         "BRASIL"
        ],
        [
         "1",
         "LABORGUINI",
         "3.0",
         "12",
         "1200",
         "700",
         "AUTOMATICO",
         "EUA"
        ],
        [
         "2",
         "LABORGUINI",
         "3.0",
         "12",
         "1200",
         "700",
         "AUTOMATICO",
         "ESPANHA"
        ],
        [
         "3",
         "FERRARI",
         "3.0",
         "12",
         "1400",
         "640",
         "AUTOMATICO",
         "CANADA"
        ],
        [
         "4",
         "ASTON MARTIN",
         "3.5",
         "10",
         "1600",
         "620",
         "AUTOMATICO",
         "INGLATERRA"
        ]
       ],
       "shape": {
        "columns": 7,
        "rows": 5
       }
      },
      "text/html": [
       "<div>\n",
       "<style scoped>\n",
       "    .dataframe tbody tr th:only-of-type {\n",
       "        vertical-align: middle;\n",
       "    }\n",
       "\n",
       "    .dataframe tbody tr th {\n",
       "        vertical-align: top;\n",
       "    }\n",
       "\n",
       "    .dataframe thead th {\n",
       "        text-align: right;\n",
       "    }\n",
       "</style>\n",
       "<table border=\"1\" class=\"dataframe\">\n",
       "  <thead>\n",
       "    <tr style=\"text-align: right;\">\n",
       "      <th></th>\n",
       "      <th>MODELO</th>\n",
       "      <th>KM-LITRO</th>\n",
       "      <th>CILINDROS</th>\n",
       "      <th>PESO(KG)</th>\n",
       "      <th>CAVALOS</th>\n",
       "      <th>TRANSMISSAO</th>\n",
       "      <th>PAIS</th>\n",
       "    </tr>\n",
       "  </thead>\n",
       "  <tbody>\n",
       "    <tr>\n",
       "      <th>0</th>\n",
       "      <td>LABORGUINI</td>\n",
       "      <td>3.0</td>\n",
       "      <td>12</td>\n",
       "      <td>1200</td>\n",
       "      <td>700</td>\n",
       "      <td>AUTOMATICO</td>\n",
       "      <td>BRASIL</td>\n",
       "    </tr>\n",
       "    <tr>\n",
       "      <th>1</th>\n",
       "      <td>LABORGUINI</td>\n",
       "      <td>3.0</td>\n",
       "      <td>12</td>\n",
       "      <td>1200</td>\n",
       "      <td>700</td>\n",
       "      <td>AUTOMATICO</td>\n",
       "      <td>EUA</td>\n",
       "    </tr>\n",
       "    <tr>\n",
       "      <th>2</th>\n",
       "      <td>LABORGUINI</td>\n",
       "      <td>3.0</td>\n",
       "      <td>12</td>\n",
       "      <td>1200</td>\n",
       "      <td>700</td>\n",
       "      <td>AUTOMATICO</td>\n",
       "      <td>ESPANHA</td>\n",
       "    </tr>\n",
       "    <tr>\n",
       "      <th>3</th>\n",
       "      <td>FERRARI</td>\n",
       "      <td>3.0</td>\n",
       "      <td>12</td>\n",
       "      <td>1400</td>\n",
       "      <td>640</td>\n",
       "      <td>AUTOMATICO</td>\n",
       "      <td>CANADA</td>\n",
       "    </tr>\n",
       "    <tr>\n",
       "      <th>4</th>\n",
       "      <td>ASTON MARTIN</td>\n",
       "      <td>3.5</td>\n",
       "      <td>10</td>\n",
       "      <td>1600</td>\n",
       "      <td>620</td>\n",
       "      <td>AUTOMATICO</td>\n",
       "      <td>INGLATERRA</td>\n",
       "    </tr>\n",
       "  </tbody>\n",
       "</table>\n",
       "</div>"
      ],
      "text/plain": [
       "         MODELO  KM-LITRO  CILINDROS  PESO(KG)  CAVALOS TRANSMISSAO  \\\n",
       "0    LABORGUINI       3.0         12      1200      700  AUTOMATICO   \n",
       "1    LABORGUINI       3.0         12      1200      700  AUTOMATICO   \n",
       "2    LABORGUINI       3.0         12      1200      700  AUTOMATICO   \n",
       "3       FERRARI       3.0         12      1400      640  AUTOMATICO   \n",
       "4  ASTON MARTIN       3.5         10      1600      620  AUTOMATICO   \n",
       "\n",
       "         PAIS  \n",
       "0      BRASIL  \n",
       "1         EUA  \n",
       "2     ESPANHA  \n",
       "3      CANADA  \n",
       "4  INGLATERRA  "
      ]
     },
     "execution_count": 5,
     "metadata": {},
     "output_type": "execute_result"
    }
   ],
   "source": [
    "df.head()\n"
   ]
  },
  {
   "cell_type": "code",
   "execution_count": 6,
   "id": "dde00978",
   "metadata": {},
   "outputs": [
    {
     "name": "stdout",
     "output_type": "stream",
     "text": [
      "<class 'pandas.core.frame.DataFrame'>\n",
      "RangeIndex: 986 entries, 0 to 985\n",
      "Data columns (total 7 columns):\n",
      " #   Column       Non-Null Count  Dtype  \n",
      "---  ------       --------------  -----  \n",
      " 0   MODELO       986 non-null    object \n",
      " 1   KM-LITRO     984 non-null    float64\n",
      " 2   CILINDROS    986 non-null    int64  \n",
      " 3   PESO(KG)     986 non-null    int64  \n",
      " 4   CAVALOS      986 non-null    int64  \n",
      " 5   TRANSMISSAO  986 non-null    object \n",
      " 6   PAIS         986 non-null    object \n",
      "dtypes: float64(1), int64(3), object(3)\n",
      "memory usage: 54.0+ KB\n"
     ]
    }
   ],
   "source": [
    "df.info()"
   ]
  },
  {
   "cell_type": "code",
   "execution_count": 7,
   "id": "982f7115",
   "metadata": {},
   "outputs": [
    {
     "data": {
      "application/vnd.microsoft.datawrangler.viewer.v0+json": {
       "columns": [
        {
         "name": "index",
         "rawType": "object",
         "type": "string"
        },
        {
         "name": "KM-LITRO",
         "rawType": "float64",
         "type": "float"
        },
        {
         "name": "CILINDROS",
         "rawType": "float64",
         "type": "float"
        },
        {
         "name": "PESO(KG)",
         "rawType": "float64",
         "type": "float"
        },
        {
         "name": "CAVALOS",
         "rawType": "float64",
         "type": "float"
        }
       ],
       "conversionMethod": "pd.DataFrame",
       "ref": "81c439a0-0454-4234-9f62-5dbcdb969f1b",
       "rows": [
        [
         "count",
         "984.0",
         "986.0",
         "986.0",
         "986.0"
        ],
        [
         "mean",
         "8.209552845528457",
         "6.1156186612576064",
         "1959.4320486815416",
         "262.6227180527383"
        ],
        [
         "std",
         "3.7184112331658405",
         "2.764682901492265",
         "459.7696200269848",
         "209.5446686836042"
        ],
        [
         "min",
         "3.0",
         "3.0",
         "1200.0",
         "116.0"
        ],
        [
         "25%",
         "4.5",
         "4.0",
         "1700.0",
         "118.0"
        ],
        [
         "50%",
         "8.0",
         "4.0",
         "1700.0",
         "118.0"
        ],
        [
         "75%",
         "11.0",
         "8.0",
         "2300.0",
         "340.0"
        ],
        [
         "max",
         "14.0",
         "12.0",
         "3000.0",
         "1800.0"
        ]
       ],
       "shape": {
        "columns": 4,
        "rows": 8
       }
      },
      "text/html": [
       "<div>\n",
       "<style scoped>\n",
       "    .dataframe tbody tr th:only-of-type {\n",
       "        vertical-align: middle;\n",
       "    }\n",
       "\n",
       "    .dataframe tbody tr th {\n",
       "        vertical-align: top;\n",
       "    }\n",
       "\n",
       "    .dataframe thead th {\n",
       "        text-align: right;\n",
       "    }\n",
       "</style>\n",
       "<table border=\"1\" class=\"dataframe\">\n",
       "  <thead>\n",
       "    <tr style=\"text-align: right;\">\n",
       "      <th></th>\n",
       "      <th>KM-LITRO</th>\n",
       "      <th>CILINDROS</th>\n",
       "      <th>PESO(KG)</th>\n",
       "      <th>CAVALOS</th>\n",
       "    </tr>\n",
       "  </thead>\n",
       "  <tbody>\n",
       "    <tr>\n",
       "      <th>count</th>\n",
       "      <td>984.000000</td>\n",
       "      <td>986.000000</td>\n",
       "      <td>986.000000</td>\n",
       "      <td>986.000000</td>\n",
       "    </tr>\n",
       "    <tr>\n",
       "      <th>mean</th>\n",
       "      <td>8.209553</td>\n",
       "      <td>6.115619</td>\n",
       "      <td>1959.432049</td>\n",
       "      <td>262.622718</td>\n",
       "    </tr>\n",
       "    <tr>\n",
       "      <th>std</th>\n",
       "      <td>3.718411</td>\n",
       "      <td>2.764683</td>\n",
       "      <td>459.769620</td>\n",
       "      <td>209.544669</td>\n",
       "    </tr>\n",
       "    <tr>\n",
       "      <th>min</th>\n",
       "      <td>3.000000</td>\n",
       "      <td>3.000000</td>\n",
       "      <td>1200.000000</td>\n",
       "      <td>116.000000</td>\n",
       "    </tr>\n",
       "    <tr>\n",
       "      <th>25%</th>\n",
       "      <td>4.500000</td>\n",
       "      <td>4.000000</td>\n",
       "      <td>1700.000000</td>\n",
       "      <td>118.000000</td>\n",
       "    </tr>\n",
       "    <tr>\n",
       "      <th>50%</th>\n",
       "      <td>8.000000</td>\n",
       "      <td>4.000000</td>\n",
       "      <td>1700.000000</td>\n",
       "      <td>118.000000</td>\n",
       "    </tr>\n",
       "    <tr>\n",
       "      <th>75%</th>\n",
       "      <td>11.000000</td>\n",
       "      <td>8.000000</td>\n",
       "      <td>2300.000000</td>\n",
       "      <td>340.000000</td>\n",
       "    </tr>\n",
       "    <tr>\n",
       "      <th>max</th>\n",
       "      <td>14.000000</td>\n",
       "      <td>12.000000</td>\n",
       "      <td>3000.000000</td>\n",
       "      <td>1800.000000</td>\n",
       "    </tr>\n",
       "  </tbody>\n",
       "</table>\n",
       "</div>"
      ],
      "text/plain": [
       "         KM-LITRO   CILINDROS     PESO(KG)      CAVALOS\n",
       "count  984.000000  986.000000   986.000000   986.000000\n",
       "mean     8.209553    6.115619  1959.432049   262.622718\n",
       "std      3.718411    2.764683   459.769620   209.544669\n",
       "min      3.000000    3.000000  1200.000000   116.000000\n",
       "25%      4.500000    4.000000  1700.000000   118.000000\n",
       "50%      8.000000    4.000000  1700.000000   118.000000\n",
       "75%     11.000000    8.000000  2300.000000   340.000000\n",
       "max     14.000000   12.000000  3000.000000  1800.000000"
      ]
     },
     "execution_count": 7,
     "metadata": {},
     "output_type": "execute_result"
    }
   ],
   "source": [
    "df.describe()"
   ]
  },
  {
   "cell_type": "code",
   "execution_count": 8,
   "id": "db28a742",
   "metadata": {},
   "outputs": [
    {
     "data": {
      "text/plain": [
       "PAIS\n",
       "BRASIL        99\n",
       "EUA           99\n",
       "ESPANHA       99\n",
       "CANADA        99\n",
       "INGLATERRA    99\n",
       "ALEMANHA      99\n",
       "AUSTRALIA     98\n",
       "NORUEGA       98\n",
       "BELGICA       98\n",
       "HOLANDA       98\n",
       "Name: count, dtype: int64"
      ]
     },
     "execution_count": 8,
     "metadata": {},
     "output_type": "execute_result"
    }
   ],
   "source": [
    "df['PAIS'].value_counts()\n"
   ]
  },
  {
   "cell_type": "code",
   "execution_count": 9,
   "id": "859d4195",
   "metadata": {},
   "outputs": [
    {
     "data": {
      "text/plain": [
       "TRANSMISSAO\n",
       "AUTOMATICO    536\n",
       "MANUAL        450\n",
       "dtype: int64"
      ]
     },
     "execution_count": 9,
     "metadata": {},
     "output_type": "execute_result"
    }
   ],
   "source": [
    "df.groupby('TRANSMISSAO').size()"
   ]
  },
  {
   "cell_type": "code",
   "execution_count": 10,
   "id": "fed39d6a",
   "metadata": {},
   "outputs": [
    {
     "data": {
      "text/plain": [
       "MODELO\n",
       "ASTON MARTIN     66\n",
       "BMW X1           30\n",
       "BMW X5           36\n",
       "COROLLA          36\n",
       "CORSA            42\n",
       "CRETA            36\n",
       "FERRARI          54\n",
       "GOL              24\n",
       "HB20             30\n",
       "HONDA FIT        66\n",
       "JEEP COMPASS     36\n",
       "JEEP RENEGADE    24\n",
       "LABORGUINI       50\n",
       "MERCEDES SL80    66\n",
       "MOBI             66\n",
       "PAJERO           36\n",
       "PALIO            66\n",
       "PARATI           24\n",
       "PASSAT           66\n",
       "SAVEIRO          42\n",
       "UNO              66\n",
       "VECTRA           24\n",
       "dtype: int64"
      ]
     },
     "execution_count": 10,
     "metadata": {},
     "output_type": "execute_result"
    }
   ],
   "source": [
    "df.groupby('MODELO').size()"
   ]
  },
  {
   "cell_type": "code",
   "execution_count": 11,
   "id": "f36fc6f2",
   "metadata": {},
   "outputs": [],
   "source": [
    "df_dummy = pd.get_dummies(df)\n",
    "\n",
    "df_transmissao = pd.get_dummies(df['TRANSMISSAO'])\n"
   ]
  },
  {
   "cell_type": "code",
   "execution_count": 12,
   "id": "289c2415",
   "metadata": {},
   "outputs": [
    {
     "data": {
      "application/vnd.microsoft.datawrangler.viewer.v0+json": {
       "columns": [
        {
         "name": "index",
         "rawType": "int64",
         "type": "integer"
        },
        {
         "name": "MODELO",
         "rawType": "object",
         "type": "string"
        },
        {
         "name": "KM-LITRO",
         "rawType": "float64",
         "type": "float"
        },
        {
         "name": "CILINDROS",
         "rawType": "int64",
         "type": "integer"
        },
        {
         "name": "PESO(KG)",
         "rawType": "int64",
         "type": "integer"
        },
        {
         "name": "CAVALOS",
         "rawType": "int64",
         "type": "integer"
        },
        {
         "name": "TRANSMISSAO",
         "rawType": "object",
         "type": "string"
        },
        {
         "name": "PAIS",
         "rawType": "object",
         "type": "string"
        },
        {
         "name": "AUTOMATICO",
         "rawType": "bool",
         "type": "boolean"
        },
        {
         "name": "MANUAL",
         "rawType": "bool",
         "type": "boolean"
        }
       ],
       "conversionMethod": "pd.DataFrame",
       "ref": "ed9cc9b3-41ec-438a-8499-dd633848a4e1",
       "rows": [
        [
         "0",
         "LABORGUINI",
         "3.0",
         "12",
         "1200",
         "700",
         "AUTOMATICO",
         "BRASIL",
         "True",
         "False"
        ],
        [
         "1",
         "LABORGUINI",
         "3.0",
         "12",
         "1200",
         "700",
         "AUTOMATICO",
         "EUA",
         "True",
         "False"
        ],
        [
         "2",
         "LABORGUINI",
         "3.0",
         "12",
         "1200",
         "700",
         "AUTOMATICO",
         "ESPANHA",
         "True",
         "False"
        ],
        [
         "3",
         "FERRARI",
         "3.0",
         "12",
         "1400",
         "640",
         "AUTOMATICO",
         "CANADA",
         "True",
         "False"
        ],
        [
         "4",
         "ASTON MARTIN",
         "3.5",
         "10",
         "1600",
         "620",
         "AUTOMATICO",
         "INGLATERRA",
         "True",
         "False"
        ]
       ],
       "shape": {
        "columns": 9,
        "rows": 5
       }
      },
      "text/html": [
       "<div>\n",
       "<style scoped>\n",
       "    .dataframe tbody tr th:only-of-type {\n",
       "        vertical-align: middle;\n",
       "    }\n",
       "\n",
       "    .dataframe tbody tr th {\n",
       "        vertical-align: top;\n",
       "    }\n",
       "\n",
       "    .dataframe thead th {\n",
       "        text-align: right;\n",
       "    }\n",
       "</style>\n",
       "<table border=\"1\" class=\"dataframe\">\n",
       "  <thead>\n",
       "    <tr style=\"text-align: right;\">\n",
       "      <th></th>\n",
       "      <th>MODELO</th>\n",
       "      <th>KM-LITRO</th>\n",
       "      <th>CILINDROS</th>\n",
       "      <th>PESO(KG)</th>\n",
       "      <th>CAVALOS</th>\n",
       "      <th>TRANSMISSAO</th>\n",
       "      <th>PAIS</th>\n",
       "      <th>AUTOMATICO</th>\n",
       "      <th>MANUAL</th>\n",
       "    </tr>\n",
       "  </thead>\n",
       "  <tbody>\n",
       "    <tr>\n",
       "      <th>0</th>\n",
       "      <td>LABORGUINI</td>\n",
       "      <td>3.0</td>\n",
       "      <td>12</td>\n",
       "      <td>1200</td>\n",
       "      <td>700</td>\n",
       "      <td>AUTOMATICO</td>\n",
       "      <td>BRASIL</td>\n",
       "      <td>True</td>\n",
       "      <td>False</td>\n",
       "    </tr>\n",
       "    <tr>\n",
       "      <th>1</th>\n",
       "      <td>LABORGUINI</td>\n",
       "      <td>3.0</td>\n",
       "      <td>12</td>\n",
       "      <td>1200</td>\n",
       "      <td>700</td>\n",
       "      <td>AUTOMATICO</td>\n",
       "      <td>EUA</td>\n",
       "      <td>True</td>\n",
       "      <td>False</td>\n",
       "    </tr>\n",
       "    <tr>\n",
       "      <th>2</th>\n",
       "      <td>LABORGUINI</td>\n",
       "      <td>3.0</td>\n",
       "      <td>12</td>\n",
       "      <td>1200</td>\n",
       "      <td>700</td>\n",
       "      <td>AUTOMATICO</td>\n",
       "      <td>ESPANHA</td>\n",
       "      <td>True</td>\n",
       "      <td>False</td>\n",
       "    </tr>\n",
       "    <tr>\n",
       "      <th>3</th>\n",
       "      <td>FERRARI</td>\n",
       "      <td>3.0</td>\n",
       "      <td>12</td>\n",
       "      <td>1400</td>\n",
       "      <td>640</td>\n",
       "      <td>AUTOMATICO</td>\n",
       "      <td>CANADA</td>\n",
       "      <td>True</td>\n",
       "      <td>False</td>\n",
       "    </tr>\n",
       "    <tr>\n",
       "      <th>4</th>\n",
       "      <td>ASTON MARTIN</td>\n",
       "      <td>3.5</td>\n",
       "      <td>10</td>\n",
       "      <td>1600</td>\n",
       "      <td>620</td>\n",
       "      <td>AUTOMATICO</td>\n",
       "      <td>INGLATERRA</td>\n",
       "      <td>True</td>\n",
       "      <td>False</td>\n",
       "    </tr>\n",
       "  </tbody>\n",
       "</table>\n",
       "</div>"
      ],
      "text/plain": [
       "         MODELO  KM-LITRO  CILINDROS  PESO(KG)  CAVALOS TRANSMISSAO  \\\n",
       "0    LABORGUINI       3.0         12      1200      700  AUTOMATICO   \n",
       "1    LABORGUINI       3.0         12      1200      700  AUTOMATICO   \n",
       "2    LABORGUINI       3.0         12      1200      700  AUTOMATICO   \n",
       "3       FERRARI       3.0         12      1400      640  AUTOMATICO   \n",
       "4  ASTON MARTIN       3.5         10      1600      620  AUTOMATICO   \n",
       "\n",
       "         PAIS  AUTOMATICO  MANUAL  \n",
       "0      BRASIL        True   False  \n",
       "1         EUA        True   False  \n",
       "2     ESPANHA        True   False  \n",
       "3      CANADA        True   False  \n",
       "4  INGLATERRA        True   False  "
      ]
     },
     "execution_count": 12,
     "metadata": {},
     "output_type": "execute_result"
    }
   ],
   "source": [
    "df_dummy_transmissao = pd.get_dummies(df['TRANSMISSAO'])\n",
    "\n",
    "df_completo = pd.concat([df, df_dummy_transmissao], axis=1)\n",
    "\n",
    "df_completo.head()"
   ]
  },
  {
   "cell_type": "markdown",
   "id": "9260e22b",
   "metadata": {},
   "source": [
    "# Metodo One Hot Encoding\n"
   ]
  },
  {
   "cell_type": "code",
   "execution_count": 13,
   "id": "1b2a9938",
   "metadata": {},
   "outputs": [
    {
     "name": "stdout",
     "output_type": "stream",
     "text": [
      "Collecting scikit-learn\n",
      "  Downloading scikit_learn-1.6.1-cp310-cp310-win_amd64.whl.metadata (15 kB)\n",
      "Requirement already satisfied: numpy>=1.19.5 in c:\\users\\aluno tarde\\desktop\\mateus\\.venv\\lib\\site-packages (from scikit-learn) (2.2.5)\n",
      "Collecting scipy>=1.6.0 (from scikit-learn)\n",
      "  Downloading scipy-1.15.3-cp310-cp310-win_amd64.whl.metadata (60 kB)\n",
      "Collecting joblib>=1.2.0 (from scikit-learn)\n",
      "  Downloading joblib-1.5.0-py3-none-any.whl.metadata (5.6 kB)\n",
      "Collecting threadpoolctl>=3.1.0 (from scikit-learn)\n",
      "  Downloading threadpoolctl-3.6.0-py3-none-any.whl.metadata (13 kB)\n",
      "Downloading scikit_learn-1.6.1-cp310-cp310-win_amd64.whl (11.1 MB)\n",
      "   ---------------------------------------- 0.0/11.1 MB ? eta -:--:--\n",
      "   ---------------------- ----------------- 6.3/11.1 MB 35.1 MB/s eta 0:00:01\n",
      "   ---------------------------------------- 11.1/11.1 MB 34.8 MB/s eta 0:00:00\n",
      "Downloading joblib-1.5.0-py3-none-any.whl (307 kB)\n",
      "Downloading scipy-1.15.3-cp310-cp310-win_amd64.whl (41.3 MB)\n",
      "   ---------------------------------------- 0.0/41.3 MB ? eta -:--:--\n",
      "   ----------- ---------------------------- 11.5/41.3 MB 55.5 MB/s eta 0:00:01\n",
      "   ---------------------- ----------------- 23.6/41.3 MB 55.3 MB/s eta 0:00:01\n",
      "   ---------------------------------- ----- 35.7/41.3 MB 55.3 MB/s eta 0:00:01\n",
      "   ---------------------------------------  41.2/41.3 MB 53.5 MB/s eta 0:00:01\n",
      "   ---------------------------------------- 41.3/41.3 MB 45.3 MB/s eta 0:00:00\n",
      "Downloading threadpoolctl-3.6.0-py3-none-any.whl (18 kB)\n",
      "Installing collected packages: threadpoolctl, scipy, joblib, scikit-learn\n",
      "\n",
      "   ---------- ----------------------------- 1/4 [scipy]\n",
      "   ---------- ----------------------------- 1/4 [scipy]\n",
      "   ---------- ----------------------------- 1/4 [scipy]\n",
      "   ---------- ----------------------------- 1/4 [scipy]\n",
      "   ---------- ----------------------------- 1/4 [scipy]\n",
      "   ---------- ----------------------------- 1/4 [scipy]\n",
      "   ---------- ----------------------------- 1/4 [scipy]\n",
      "   ---------- ----------------------------- 1/4 [scipy]\n",
      "   ---------- ----------------------------- 1/4 [scipy]\n",
      "   ---------- ----------------------------- 1/4 [scipy]\n",
      "   ---------- ----------------------------- 1/4 [scipy]\n",
      "   ---------- ----------------------------- 1/4 [scipy]\n",
      "   ---------- ----------------------------- 1/4 [scipy]\n",
      "   ---------- ----------------------------- 1/4 [scipy]\n",
      "   ---------- ----------------------------- 1/4 [scipy]\n",
      "   ---------- ----------------------------- 1/4 [scipy]\n",
      "   ---------- ----------------------------- 1/4 [scipy]\n",
      "   ---------- ----------------------------- 1/4 [scipy]\n",
      "   ---------- ----------------------------- 1/4 [scipy]\n",
      "   ---------- ----------------------------- 1/4 [scipy]\n",
      "   ---------- ----------------------------- 1/4 [scipy]\n",
      "   ---------- ----------------------------- 1/4 [scipy]\n",
      "   ---------- ----------------------------- 1/4 [scipy]\n",
      "   ---------- ----------------------------- 1/4 [scipy]\n",
      "   ---------- ----------------------------- 1/4 [scipy]\n",
      "   ---------- ----------------------------- 1/4 [scipy]\n",
      "   ---------- ----------------------------- 1/4 [scipy]\n",
      "   ---------- ----------------------------- 1/4 [scipy]\n",
      "   ---------- ----------------------------- 1/4 [scipy]\n",
      "   ---------- ----------------------------- 1/4 [scipy]\n",
      "   ---------- ----------------------------- 1/4 [scipy]\n",
      "   ---------- ----------------------------- 1/4 [scipy]\n",
      "   ---------- ----------------------------- 1/4 [scipy]\n",
      "   ---------- ----------------------------- 1/4 [scipy]\n",
      "   ---------- ----------------------------- 1/4 [scipy]\n",
      "   ---------- ----------------------------- 1/4 [scipy]\n",
      "   ---------- ----------------------------- 1/4 [scipy]\n",
      "   ---------- ----------------------------- 1/4 [scipy]\n",
      "   ---------- ----------------------------- 1/4 [scipy]\n",
      "   ---------- ----------------------------- 1/4 [scipy]\n",
      "   ---------- ----------------------------- 1/4 [scipy]\n",
      "   ---------- ----------------------------- 1/4 [scipy]\n",
      "   ---------- ----------------------------- 1/4 [scipy]\n",
      "   ---------- ----------------------------- 1/4 [scipy]\n",
      "   ---------- ----------------------------- 1/4 [scipy]\n",
      "   ---------- ----------------------------- 1/4 [scipy]\n",
      "   ---------- ----------------------------- 1/4 [scipy]\n",
      "   ---------- ----------------------------- 1/4 [scipy]\n",
      "   ---------- ----------------------------- 1/4 [scipy]\n",
      "   ---------- ----------------------------- 1/4 [scipy]\n",
      "   ---------- ----------------------------- 1/4 [scipy]\n",
      "   ---------- ----------------------------- 1/4 [scipy]\n",
      "   ---------- ----------------------------- 1/4 [scipy]\n",
      "   ---------- ----------------------------- 1/4 [scipy]\n",
      "   ---------- ----------------------------- 1/4 [scipy]\n",
      "   ---------- ----------------------------- 1/4 [scipy]\n",
      "   ---------- ----------------------------- 1/4 [scipy]\n",
      "   ---------- ----------------------------- 1/4 [scipy]\n",
      "   ---------- ----------------------------- 1/4 [scipy]\n",
      "   ---------- ----------------------------- 1/4 [scipy]\n",
      "   ---------- ----------------------------- 1/4 [scipy]\n",
      "   ---------- ----------------------------- 1/4 [scipy]\n",
      "   ---------- ----------------------------- 1/4 [scipy]\n",
      "   ---------- ----------------------------- 1/4 [scipy]\n",
      "   ---------- ----------------------------- 1/4 [scipy]\n",
      "   ---------- ----------------------------- 1/4 [scipy]\n",
      "   ---------- ----------------------------- 1/4 [scipy]\n",
      "   ---------- ----------------------------- 1/4 [scipy]\n",
      "   ---------- ----------------------------- 1/4 [scipy]\n",
      "   ---------- ----------------------------- 1/4 [scipy]\n",
      "   ---------- ----------------------------- 1/4 [scipy]\n",
      "   ---------- ----------------------------- 1/4 [scipy]\n",
      "   ---------- ----------------------------- 1/4 [scipy]\n",
      "   ---------- ----------------------------- 1/4 [scipy]\n",
      "   ---------- ----------------------------- 1/4 [scipy]\n",
      "   ---------- ----------------------------- 1/4 [scipy]\n",
      "   ---------- ----------------------------- 1/4 [scipy]\n",
      "   ---------- ----------------------------- 1/4 [scipy]\n",
      "   ---------- ----------------------------- 1/4 [scipy]\n",
      "   ---------- ----------------------------- 1/4 [scipy]\n",
      "   ---------- ----------------------------- 1/4 [scipy]\n",
      "   ---------- ----------------------------- 1/4 [scipy]\n",
      "   ---------- ----------------------------- 1/4 [scipy]\n",
      "   ---------- ----------------------------- 1/4 [scipy]\n",
      "   ---------- ----------------------------- 1/4 [scipy]\n",
      "   ---------- ----------------------------- 1/4 [scipy]\n",
      "   ---------- ----------------------------- 1/4 [scipy]\n",
      "   ---------- ----------------------------- 1/4 [scipy]\n",
      "   -------------------- ------------------- 2/4 [joblib]\n",
      "   -------------------- ------------------- 2/4 [joblib]\n",
      "   -------------------- ------------------- 2/4 [joblib]\n",
      "   -------------------- ------------------- 2/4 [joblib]\n",
      "   -------------------- ------------------- 2/4 [joblib]\n",
      "   -------------------- ------------------- 2/4 [joblib]\n",
      "   ------------------------------ --------- 3/4 [scikit-learn]\n",
      "   ------------------------------ --------- 3/4 [scikit-learn]\n",
      "   ------------------------------ --------- 3/4 [scikit-learn]\n",
      "   ------------------------------ --------- 3/4 [scikit-learn]\n",
      "   ------------------------------ --------- 3/4 [scikit-learn]\n",
      "   ------------------------------ --------- 3/4 [scikit-learn]\n",
      "   ------------------------------ --------- 3/4 [scikit-learn]\n",
      "   ------------------------------ --------- 3/4 [scikit-learn]\n",
      "   ------------------------------ --------- 3/4 [scikit-learn]\n",
      "   ------------------------------ --------- 3/4 [scikit-learn]\n",
      "   ------------------------------ --------- 3/4 [scikit-learn]\n",
      "   ------------------------------ --------- 3/4 [scikit-learn]\n",
      "   ------------------------------ --------- 3/4 [scikit-learn]\n",
      "   ------------------------------ --------- 3/4 [scikit-learn]\n",
      "   ------------------------------ --------- 3/4 [scikit-learn]\n",
      "   ------------------------------ --------- 3/4 [scikit-learn]\n",
      "   ------------------------------ --------- 3/4 [scikit-learn]\n",
      "   ------------------------------ --------- 3/4 [scikit-learn]\n",
      "   ------------------------------ --------- 3/4 [scikit-learn]\n",
      "   ------------------------------ --------- 3/4 [scikit-learn]\n",
      "   ------------------------------ --------- 3/4 [scikit-learn]\n",
      "   ------------------------------ --------- 3/4 [scikit-learn]\n",
      "   ------------------------------ --------- 3/4 [scikit-learn]\n",
      "   ------------------------------ --------- 3/4 [scikit-learn]\n",
      "   ------------------------------ --------- 3/4 [scikit-learn]\n",
      "   ------------------------------ --------- 3/4 [scikit-learn]\n",
      "   ------------------------------ --------- 3/4 [scikit-learn]\n",
      "   ------------------------------ --------- 3/4 [scikit-learn]\n",
      "   ------------------------------ --------- 3/4 [scikit-learn]\n",
      "   ------------------------------ --------- 3/4 [scikit-learn]\n",
      "   ------------------------------ --------- 3/4 [scikit-learn]\n",
      "   ------------------------------ --------- 3/4 [scikit-learn]\n",
      "   ------------------------------ --------- 3/4 [scikit-learn]\n",
      "   ------------------------------ --------- 3/4 [scikit-learn]\n",
      "   ------------------------------ --------- 3/4 [scikit-learn]\n",
      "   ------------------------------ --------- 3/4 [scikit-learn]\n",
      "   ------------------------------ --------- 3/4 [scikit-learn]\n",
      "   ------------------------------ --------- 3/4 [scikit-learn]\n",
      "   ------------------------------ --------- 3/4 [scikit-learn]\n",
      "   ------------------------------ --------- 3/4 [scikit-learn]\n",
      "   ------------------------------ --------- 3/4 [scikit-learn]\n",
      "   ------------------------------ --------- 3/4 [scikit-learn]\n",
      "   ------------------------------ --------- 3/4 [scikit-learn]\n",
      "   ------------------------------ --------- 3/4 [scikit-learn]\n",
      "   ------------------------------ --------- 3/4 [scikit-learn]\n",
      "   ------------------------------ --------- 3/4 [scikit-learn]\n",
      "   ------------------------------ --------- 3/4 [scikit-learn]\n",
      "   ------------------------------ --------- 3/4 [scikit-learn]\n",
      "   ------------------------------ --------- 3/4 [scikit-learn]\n",
      "   ------------------------------ --------- 3/4 [scikit-learn]\n",
      "   ---------------------------------------- 4/4 [scikit-learn]\n",
      "\n",
      "Successfully installed joblib-1.5.0 scikit-learn-1.6.1 scipy-1.15.3 threadpoolctl-3.6.0\n"
     ]
    }
   ],
   "source": [
    "! pip install scikit-learn\n"
   ]
  },
  {
   "cell_type": "code",
   "execution_count": 14,
   "id": "bcb94420",
   "metadata": {},
   "outputs": [
    {
     "data": {
      "text/plain": [
       "(986, 7)"
      ]
     },
     "execution_count": 14,
     "metadata": {},
     "output_type": "execute_result"
    }
   ],
   "source": [
    "df = pd.read_excel('./dados.xlsx')\n",
    "\n",
    "df.shape\n"
   ]
  },
  {
   "cell_type": "code",
   "execution_count": 15,
   "id": "79af0719",
   "metadata": {},
   "outputs": [
    {
     "name": "stdout",
     "output_type": "stream",
     "text": [
      "<class 'pandas.core.frame.DataFrame'>\n",
      "RangeIndex: 986 entries, 0 to 985\n",
      "Data columns (total 7 columns):\n",
      " #   Column       Non-Null Count  Dtype  \n",
      "---  ------       --------------  -----  \n",
      " 0   MODELO       986 non-null    object \n",
      " 1   KM-LITRO     984 non-null    float64\n",
      " 2   CILINDROS    986 non-null    int64  \n",
      " 3   PESO(KG)     986 non-null    int64  \n",
      " 4   CAVALOS      986 non-null    int64  \n",
      " 5   TRANSMISSAO  986 non-null    object \n",
      " 6   PAIS         986 non-null    object \n",
      "dtypes: float64(1), int64(3), object(3)\n",
      "memory usage: 54.0+ KB\n"
     ]
    }
   ],
   "source": [
    "df.info()\n"
   ]
  },
  {
   "cell_type": "code",
   "execution_count": 16,
   "id": "a185f4d4",
   "metadata": {},
   "outputs": [
    {
     "data": {
      "application/vnd.microsoft.datawrangler.viewer.v0+json": {
       "columns": [
        {
         "name": "index",
         "rawType": "int64",
         "type": "integer"
        },
        {
         "name": "MODELO",
         "rawType": "object",
         "type": "string"
        },
        {
         "name": "KM-LITRO",
         "rawType": "float64",
         "type": "float"
        },
        {
         "name": "CILINDROS",
         "rawType": "int64",
         "type": "integer"
        },
        {
         "name": "PESO(KG)",
         "rawType": "int64",
         "type": "integer"
        },
        {
         "name": "CAVALOS",
         "rawType": "int64",
         "type": "integer"
        },
        {
         "name": "TRANSMISSAO",
         "rawType": "object",
         "type": "string"
        },
        {
         "name": "PAIS",
         "rawType": "object",
         "type": "string"
        }
       ],
       "conversionMethod": "pd.DataFrame",
       "ref": "3902de4c-b0fd-41d4-8657-6d4dafba979f",
       "rows": [
        [
         "0",
         "LABORGUINI",
         "3.0",
         "12",
         "1200",
         "700",
         "AUTOMATICO",
         "BRASIL"
        ],
        [
         "1",
         "LABORGUINI",
         "3.0",
         "12",
         "1200",
         "700",
         "AUTOMATICO",
         "EUA"
        ],
        [
         "2",
         "LABORGUINI",
         "3.0",
         "12",
         "1200",
         "700",
         "AUTOMATICO",
         "ESPANHA"
        ],
        [
         "3",
         "FERRARI",
         "3.0",
         "12",
         "1400",
         "640",
         "AUTOMATICO",
         "CANADA"
        ],
        [
         "4",
         "ASTON MARTIN",
         "3.5",
         "10",
         "1600",
         "620",
         "AUTOMATICO",
         "INGLATERRA"
        ]
       ],
       "shape": {
        "columns": 7,
        "rows": 5
       }
      },
      "text/html": [
       "<div>\n",
       "<style scoped>\n",
       "    .dataframe tbody tr th:only-of-type {\n",
       "        vertical-align: middle;\n",
       "    }\n",
       "\n",
       "    .dataframe tbody tr th {\n",
       "        vertical-align: top;\n",
       "    }\n",
       "\n",
       "    .dataframe thead th {\n",
       "        text-align: right;\n",
       "    }\n",
       "</style>\n",
       "<table border=\"1\" class=\"dataframe\">\n",
       "  <thead>\n",
       "    <tr style=\"text-align: right;\">\n",
       "      <th></th>\n",
       "      <th>MODELO</th>\n",
       "      <th>KM-LITRO</th>\n",
       "      <th>CILINDROS</th>\n",
       "      <th>PESO(KG)</th>\n",
       "      <th>CAVALOS</th>\n",
       "      <th>TRANSMISSAO</th>\n",
       "      <th>PAIS</th>\n",
       "    </tr>\n",
       "  </thead>\n",
       "  <tbody>\n",
       "    <tr>\n",
       "      <th>0</th>\n",
       "      <td>LABORGUINI</td>\n",
       "      <td>3.0</td>\n",
       "      <td>12</td>\n",
       "      <td>1200</td>\n",
       "      <td>700</td>\n",
       "      <td>AUTOMATICO</td>\n",
       "      <td>BRASIL</td>\n",
       "    </tr>\n",
       "    <tr>\n",
       "      <th>1</th>\n",
       "      <td>LABORGUINI</td>\n",
       "      <td>3.0</td>\n",
       "      <td>12</td>\n",
       "      <td>1200</td>\n",
       "      <td>700</td>\n",
       "      <td>AUTOMATICO</td>\n",
       "      <td>EUA</td>\n",
       "    </tr>\n",
       "    <tr>\n",
       "      <th>2</th>\n",
       "      <td>LABORGUINI</td>\n",
       "      <td>3.0</td>\n",
       "      <td>12</td>\n",
       "      <td>1200</td>\n",
       "      <td>700</td>\n",
       "      <td>AUTOMATICO</td>\n",
       "      <td>ESPANHA</td>\n",
       "    </tr>\n",
       "    <tr>\n",
       "      <th>3</th>\n",
       "      <td>FERRARI</td>\n",
       "      <td>3.0</td>\n",
       "      <td>12</td>\n",
       "      <td>1400</td>\n",
       "      <td>640</td>\n",
       "      <td>AUTOMATICO</td>\n",
       "      <td>CANADA</td>\n",
       "    </tr>\n",
       "    <tr>\n",
       "      <th>4</th>\n",
       "      <td>ASTON MARTIN</td>\n",
       "      <td>3.5</td>\n",
       "      <td>10</td>\n",
       "      <td>1600</td>\n",
       "      <td>620</td>\n",
       "      <td>AUTOMATICO</td>\n",
       "      <td>INGLATERRA</td>\n",
       "    </tr>\n",
       "  </tbody>\n",
       "</table>\n",
       "</div>"
      ],
      "text/plain": [
       "         MODELO  KM-LITRO  CILINDROS  PESO(KG)  CAVALOS TRANSMISSAO  \\\n",
       "0    LABORGUINI       3.0         12      1200      700  AUTOMATICO   \n",
       "1    LABORGUINI       3.0         12      1200      700  AUTOMATICO   \n",
       "2    LABORGUINI       3.0         12      1200      700  AUTOMATICO   \n",
       "3       FERRARI       3.0         12      1400      640  AUTOMATICO   \n",
       "4  ASTON MARTIN       3.5         10      1600      620  AUTOMATICO   \n",
       "\n",
       "         PAIS  \n",
       "0      BRASIL  \n",
       "1         EUA  \n",
       "2     ESPANHA  \n",
       "3      CANADA  \n",
       "4  INGLATERRA  "
      ]
     },
     "execution_count": 16,
     "metadata": {},
     "output_type": "execute_result"
    }
   ],
   "source": [
    "df.head()"
   ]
  },
  {
   "cell_type": "code",
   "execution_count": 17,
   "id": "e83be2ca",
   "metadata": {},
   "outputs": [],
   "source": [
    "from sklearn.preprocessing import LabelEncoder"
   ]
  },
  {
   "cell_type": "code",
   "execution_count": 18,
   "id": "44485b54",
   "metadata": {},
   "outputs": [],
   "source": [
    "lb = LabelEncoder()\n",
    "for serie in ['PAIS', 'MODELO', 'TRANSMISSAO']:\n",
    "    df[serie] = lb.fit_transform(df[serie])"
   ]
  },
  {
   "cell_type": "code",
   "execution_count": 19,
   "id": "8679f980",
   "metadata": {},
   "outputs": [
    {
     "name": "stdout",
     "output_type": "stream",
     "text": [
      "<class 'pandas.core.frame.DataFrame'>\n",
      "RangeIndex: 986 entries, 0 to 985\n",
      "Data columns (total 7 columns):\n",
      " #   Column       Non-Null Count  Dtype  \n",
      "---  ------       --------------  -----  \n",
      " 0   MODELO       986 non-null    int64  \n",
      " 1   KM-LITRO     984 non-null    float64\n",
      " 2   CILINDROS    986 non-null    int64  \n",
      " 3   PESO(KG)     986 non-null    int64  \n",
      " 4   CAVALOS      986 non-null    int64  \n",
      " 5   TRANSMISSAO  986 non-null    int64  \n",
      " 6   PAIS         986 non-null    int64  \n",
      "dtypes: float64(1), int64(6)\n",
      "memory usage: 54.0 KB\n"
     ]
    }
   ],
   "source": [
    "df.info()"
   ]
  },
  {
   "cell_type": "code",
   "execution_count": 20,
   "id": "c4fa6aff",
   "metadata": {},
   "outputs": [
    {
     "data": {
      "text/plain": [
       "PAIS\n",
       "3    99\n",
       "6    99\n",
       "5    99\n",
       "4    99\n",
       "8    99\n",
       "0    99\n",
       "1    98\n",
       "9    98\n",
       "2    98\n",
       "7    98\n",
       "Name: count, dtype: int64"
      ]
     },
     "execution_count": 20,
     "metadata": {},
     "output_type": "execute_result"
    }
   ],
   "source": [
    "df['PAIS'].value_counts()"
   ]
  },
  {
   "cell_type": "code",
   "execution_count": 21,
   "id": "2637a2cc",
   "metadata": {},
   "outputs": [
    {
     "data": {
      "text/plain": [
       "MODELO\n",
       "0     66\n",
       "1     30\n",
       "2     36\n",
       "3     36\n",
       "4     42\n",
       "5     36\n",
       "6     54\n",
       "7     24\n",
       "8     30\n",
       "9     66\n",
       "10    36\n",
       "11    24\n",
       "12    50\n",
       "13    66\n",
       "14    66\n",
       "15    36\n",
       "16    66\n",
       "17    24\n",
       "18    66\n",
       "19    42\n",
       "20    66\n",
       "21    24\n",
       "dtype: int64"
      ]
     },
     "execution_count": 21,
     "metadata": {},
     "output_type": "execute_result"
    }
   ],
   "source": [
    "df.groupby('MODELO').size()"
   ]
  },
  {
   "cell_type": "code",
   "execution_count": 22,
   "id": "fcdf4ac7",
   "metadata": {},
   "outputs": [
    {
     "name": "stdout",
     "output_type": "stream",
     "text": [
      "Legendas para PAIS:\n",
      "ALEMANHA : 0\n",
      "AUSTRALIA : 1\n",
      "BELGICA : 2\n",
      "BRASIL : 3\n",
      "CANADA : 4\n",
      "ESPANHA : 5\n",
      "EUA : 6\n",
      "HOLANDA : 7\n",
      "INGLATERRA : 8\n",
      "NORUEGA : 9\n",
      "Legendas para MODELO:\n",
      "ASTON MARTIN : 0\n",
      "BMW X1 : 1\n",
      "BMW X5 : 2\n",
      "COROLLA : 3\n",
      "CORSA : 4\n",
      "CRETA : 5\n",
      "FERRARI : 6\n",
      "GOL : 7\n",
      "HB20 : 8\n",
      "HONDA FIT : 9\n",
      "JEEP COMPASS : 10\n",
      "JEEP RENEGADE : 11\n",
      "LABORGUINI : 12\n",
      "MERCEDES SL80 : 13\n",
      "MOBI : 14\n",
      "PAJERO : 15\n",
      "PALIO : 16\n",
      "PARATI : 17\n",
      "PASSAT : 18\n",
      "SAVEIRO : 19\n",
      "UNO : 20\n",
      "VECTRA : 21\n",
      "Legendas para TRANSMISSAO:\n",
      "AUTOMATICO : 0\n",
      "MANUAL : 1\n"
     ]
    }
   ],
   "source": [
    "df_dados = pd.read_excel('./dados.xlsx')\n",
    "\n",
    "legendas = {}\n",
    "\n",
    "for var in ['PAIS', 'MODELO', 'TRANSMISSAO']:\n",
    "    lb = LabelEncoder()\n",
    "\n",
    "    dados_originais = df_dados[var].copy()\n",
    "    df_dados[var] = lb.fit_transform(dados_originais)\n",
    "\n",
    "    legenda_var = dict(zip(lb.classes_, lb.transform(lb.classes_)))\n",
    "    legendas[var] = legenda_var\n",
    "\n",
    "for var, mapa in legendas.items():\n",
    "    print(f'Legendas para {var}:')\n",
    "    for k, v in mapa.items():\n",
    "        print(f'{k} : {v}')\n",
    "    \n"
   ]
  },
  {
   "cell_type": "code",
   "execution_count": 25,
   "id": "372a64cd",
   "metadata": {},
   "outputs": [],
   "source": [
    "! pip install ydata-profiling -q"
   ]
  },
  {
   "cell_type": "code",
   "execution_count": null,
   "id": "66b3bd99",
   "metadata": {},
   "outputs": [],
   "source": [
    "import pandas_profiling as pp\n",
    "from pandas_profiling import ProfileReport\n",
    "\n",
    "df2 = pd.read_excel('dados.xlsx')\n",
    "\n",
    "doc = ProfileReport()\n",
    "\n",
    "doc.to_file(output='analise.html')\n"
   ]
  },
  {
   "cell_type": "code",
   "execution_count": null,
   "id": "f46dd5a0",
   "metadata": {},
   "outputs": [],
   "source": []
  }
 ],
 "metadata": {
  "kernelspec": {
   "display_name": ".venv",
   "language": "python",
   "name": "python3"
  },
  "language_info": {
   "codemirror_mode": {
    "name": "ipython",
    "version": 3
   },
   "file_extension": ".py",
   "mimetype": "text/x-python",
   "name": "python",
   "nbconvert_exporter": "python",
   "pygments_lexer": "ipython3",
   "version": "3.10.11"
  }
 },
 "nbformat": 4,
 "nbformat_minor": 5
}
